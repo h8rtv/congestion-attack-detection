{
 "cells": [
  {
   "cell_type": "markdown",
   "id": "196612db-7d77-4dfe-a339-ae05b125a7a8",
   "metadata": {
    "tags": []
   },
   "source": [
    "# Traffic congestion attack detection in VANETs"
   ]
  },
  {
   "cell_type": "markdown",
   "id": "0efc3998-6f36-4ae6-ab84-8a961a80d329",
   "metadata": {
    "tags": []
   },
   "source": [
    "## Introduction\n",
    "\n",
    "Ad-hoc networks are a decentralized wireless network model, composed of several devices, with the function of sending and receiving messages. One type of ad-hoc network is the vehicular ad-hoc network (VANET). VANETs have a dynamic topology, that is, the connection between vehicles can change over time.\n",
    "\n",
    "VANETs mainly contain two types of communication:\n",
    "\n",
    "* Road-to-vehicle communication\n",
    "* **Vehicle-to-vehicle communication**\n",
    "\n",
    "The applications of VANETs are varied, but are mainly based on the exchange of cooperative messages, for understanding and decision-making in traffic. There are two main elements within a VANET, the On-Board Unit (OBU) and the Road Side Unit (RSU). The OBU is responsible for sending vehicle information on the network, such as position and speed, while the RSU can send road information, such as weather and accidents that have occurred.\n",
    "\n",
    "These networks, like any other, can be the target of attacks that prevent them from functioning correctly. One of the possible attacks is the congestion simulation attack, where an attacker simulates several other vehicles stopped or at low speed near another vehicle, in a way that forces it to stop as well.\n",
    "\n",
    "To mitigate attacks, one possibility is to use some technique to detect when an attack occurs and then notify some entity so that a decision can be made regarding it. It can also be used later as a form of offline audit.\n",
    "\n",
    "Therefore, the objective of this work is to find and apply a technique that uses graph neural networks to detect congestion attacks.\n",
    "\n",
    "## Methodology\n",
    "\n",
    "To determine the technique that will be applied to detect attacks, I searched the models implemented in the Torch Geometric library for any fit in the context of dynamic and temporal graphs. I decided to use TGN, as it was the best for the type of graph being treated. It will be better explained in the following sections.\n",
    "\n",
    "From the dataset, the idea of this APS arises primarily from the VeReMi dataset, which contains the congestion attack and will be the main object of study. It will be more detailed later.\n",
    "\n",
    "## Dataset\n",
    "\n",
    "VeReMi [5] is a dataset simulated with VEINS that contains failures and attacks in VANETs. It is presented in the form of \"log\" messages between vehicles, and contains two types of messages, GPS (receiving the vehicle's own position, speed, acceleration and current direction) and BSM (messages from other vehicles receiving the position, speed, acceleration and steering of nearby vehicles). Only a part of the dataset containing genuine behavior and congestion attack behavior is used."
   ]
  },
  {
   "cell_type": "code",
   "execution_count": 7,
   "id": "561a085d-ccb8-4ae2-baf4-87a1eab39f26",
   "metadata": {
    "tags": []
   },
   "outputs": [],
   "source": [
    "import json\n",
    "import math\n",
    "import glob\n",
    "import pandas as pd\n",
    "import numpy as np\n",
    "from tqdm.notebook import tqdm\n",
    "from collections import OrderedDict\n",
    "import matplotlib.pyplot as plt"
   ]
  },
  {
   "cell_type": "markdown",
   "id": "e4ecb708-898a-4d53-b7ca-806d31bc664e",
   "metadata": {},
   "source": [
    "### Preprocessing\n",
    "\n",
    "Json logs are read and added to a numpy array to be processed."
   ]
  },
  {
   "cell_type": "code",
   "execution_count": 8,
   "id": "6d61bd01-0a89-416a-9286-dedb42d53f41",
   "metadata": {
    "tags": []
   },
   "outputs": [
    {
     "data": {
      "application/vnd.jupyter.widget-view+json": {
       "model_id": "e9a754391e87402b802d02a3e3ccb640",
       "version_major": 2,
       "version_minor": 0
      },
      "text/plain": [
       "  0%|          | 0/1691 [00:00<?, ?it/s]"
      ]
     },
     "metadata": {},
     "output_type": "display_data"
    },
    {
     "data": {
      "text/plain": [
       "1501368"
      ]
     },
     "execution_count": 8,
     "metadata": {},
     "output_type": "execute_result"
    }
   ],
   "source": [
    "BSM_SIZE = 1501368 # Already counted\n",
    "N_FEATURES = 24\n",
    "root_dir = 'VeReMi-Dataset/GridSybil_1416/'\n",
    "filenames = glob.glob(root_dir + '**/traceJSON*.json', recursive=True)\n",
    "\n",
    "line_num = 0\n",
    "for filepath in tqdm(filenames):\n",
    "    f = open(filepath)\n",
    "    for line in f:\n",
    "        if '\"type\":3' in line:\n",
    "            line_num += 1\n",
    "    \n",
    "line_num"
   ]
  },
  {
   "cell_type": "code",
   "execution_count": 9,
   "id": "3a976ad3-f100-4fd3-b909-36f9618d3979",
   "metadata": {
    "tags": []
   },
   "outputs": [
    {
     "data": {
      "text/plain": [
       "OrderedDict([('GridSybil_1416', 0)])"
      ]
     },
     "execution_count": 9,
     "metadata": {},
     "output_type": "execute_result"
    }
   ],
   "source": [
    "attacker_sender_map = {}\n",
    "\n",
    "datasets = OrderedDict()\n",
    "\n",
    "for filepath in filenames:\n",
    "    path_parts = filepath.split('/')\n",
    "    filename = path_parts[-1]\n",
    "    dataset_name = path_parts[1]\n",
    "    _, vehicle, _, attacker = filename.split('-')[:4]\n",
    "    attacker_type = int(attacker[1:])\n",
    "    vehicle_id = int(vehicle)\n",
    "    attacker_sender_map[f'{dataset_name}:{vehicle_id}'] = attacker_type\n",
    "    datasets[dataset_name] = 1\n",
    "\n",
    "for i, k in enumerate(datasets.keys()):\n",
    "    datasets[k] = i\n",
    "\n",
    "datasets"
   ]
  },
  {
   "cell_type": "code",
   "execution_count": null,
   "id": "bfd2456a-6306-4eb3-951b-57baf63e071d",
   "metadata": {
    "tags": []
   },
   "outputs": [],
   "source": [
    "veremi = np.memmap('veremi_aps.memmap', dtype='float32', mode='w+', shape=(BSM_SIZE, N_FEATURES))\n",
    "\n",
    "veremi_pos = 0\n",
    "for filepath in (pbar := tqdm(filenames)):\n",
    "    f = open(filepath)\n",
    "    path_parts = filepath.split('/')\n",
    "    filename = path_parts[-1]\n",
    "    dataset_name = path_parts[1]\n",
    "    receiver = int(filename.split('-')[1])\n",
    "    dataset_id = datasets[dataset_name]\n",
    "    pbar.set_description(\"Vehicle ID {}\".format(receiver))\n",
    "    gps = None\n",
    "    for line in f:\n",
    "        data = json.loads(line)\n",
    "        if data['type'] == 2:\n",
    "            # last gps message\n",
    "            gps = data\n",
    "        elif data['type'] == 3:\n",
    "            attack_type = attacker_sender_map.get(f'{dataset_name}:{data[\"sender\"]}', None)\n",
    "            if attack_type is not None:\n",
    "                out = (\n",
    "                    dataset_id,\n",
    "                    data['messageID'],\n",
    "                    data['rcvTime'],\n",
    "                    gps['rcvTime'],\n",
    "                    receiver,\n",
    "                    data['sender'],\n",
    "                    data['senderPseudo'],\n",
    "                    attack_type,\n",
    "                    data['pos'][0],\n",
    "                    data['pos'][1],\n",
    "                    data['spd'][0],\n",
    "                    data['spd'][1],\n",
    "                    data['acl'][0],\n",
    "                    data['acl'][1],\n",
    "                    data['hed'][0],\n",
    "                    data['hed'][1],\n",
    "                    gps['pos'][0],\n",
    "                    gps['pos'][1],\n",
    "                    gps['spd'][0],\n",
    "                    gps['spd'][1],\n",
    "                    gps['acl'][0],\n",
    "                    gps['acl'][1],\n",
    "                    gps['hed'][0],\n",
    "                    gps['hed'][1],\n",
    "                )\n",
    "                veremi[veremi_pos] = out\n",
    "                veremi_pos += 1"
   ]
  },
  {
   "cell_type": "code",
   "execution_count": 10,
   "id": "3347b646-61d1-4018-b070-c53c89bbcdf2",
   "metadata": {
    "tags": []
   },
   "outputs": [
    {
     "data": {
      "text/html": [
       "<div>\n",
       "<style scoped>\n",
       "    .dataframe tbody tr th:only-of-type {\n",
       "        vertical-align: middle;\n",
       "    }\n",
       "\n",
       "    .dataframe tbody tr th {\n",
       "        vertical-align: top;\n",
       "    }\n",
       "\n",
       "    .dataframe thead th {\n",
       "        text-align: right;\n",
       "    }\n",
       "</style>\n",
       "<table border=\"1\" class=\"dataframe\">\n",
       "  <thead>\n",
       "    <tr style=\"text-align: right;\">\n",
       "      <th></th>\n",
       "      <th>dataset_id</th>\n",
       "      <th>bsm_rcv_time</th>\n",
       "      <th>gps_rcv_time</th>\n",
       "      <th>receiver</th>\n",
       "      <th>sender</th>\n",
       "      <th>sender_pseudo</th>\n",
       "      <th>attack_type</th>\n",
       "      <th>snd_pos_x</th>\n",
       "      <th>snd_pos_y</th>\n",
       "      <th>snd_spd_x</th>\n",
       "      <th>...</th>\n",
       "      <th>snd_hed_x</th>\n",
       "      <th>snd_hed_y</th>\n",
       "      <th>rcv_pos_x</th>\n",
       "      <th>rcv_pos_y</th>\n",
       "      <th>rcv_spd_x</th>\n",
       "      <th>rcv_spd_y</th>\n",
       "      <th>rcv_acl_x</th>\n",
       "      <th>rcv_acl_y</th>\n",
       "      <th>rcv_hed_x</th>\n",
       "      <th>rcv_hed_y</th>\n",
       "    </tr>\n",
       "    <tr>\n",
       "      <th>message_id</th>\n",
       "      <th></th>\n",
       "      <th></th>\n",
       "      <th></th>\n",
       "      <th></th>\n",
       "      <th></th>\n",
       "      <th></th>\n",
       "      <th></th>\n",
       "      <th></th>\n",
       "      <th></th>\n",
       "      <th></th>\n",
       "      <th></th>\n",
       "      <th></th>\n",
       "      <th></th>\n",
       "      <th></th>\n",
       "      <th></th>\n",
       "      <th></th>\n",
       "      <th></th>\n",
       "      <th></th>\n",
       "      <th></th>\n",
       "      <th></th>\n",
       "      <th></th>\n",
       "    </tr>\n",
       "  </thead>\n",
       "  <tbody>\n",
       "    <tr>\n",
       "      <th>1242184.0</th>\n",
       "      <td>0.0</td>\n",
       "      <td>50630.000000</td>\n",
       "      <td>50630.0</td>\n",
       "      <td>483.0</td>\n",
       "      <td>153.0</td>\n",
       "      <td>1.0</td>\n",
       "      <td>16.0</td>\n",
       "      <td>191.994217</td>\n",
       "      <td>889.174866</td>\n",
       "      <td>1.042158</td>\n",
       "      <td>...</td>\n",
       "      <td>-0.999513</td>\n",
       "      <td>0.031213</td>\n",
       "      <td>105.313385</td>\n",
       "      <td>890.876953</td>\n",
       "      <td>1.201345</td>\n",
       "      <td>0.102733</td>\n",
       "      <td>2.339702</td>\n",
       "      <td>0.200050</td>\n",
       "      <td>0.997230</td>\n",
       "      <td>0.074380</td>\n",
       "    </tr>\n",
       "    <tr>\n",
       "      <th>1242456.0</th>\n",
       "      <td>0.0</td>\n",
       "      <td>50630.054688</td>\n",
       "      <td>50630.0</td>\n",
       "      <td>483.0</td>\n",
       "      <td>447.0</td>\n",
       "      <td>104475.0</td>\n",
       "      <td>0.0</td>\n",
       "      <td>148.851456</td>\n",
       "      <td>918.103516</td>\n",
       "      <td>0.618876</td>\n",
       "      <td>...</td>\n",
       "      <td>0.041573</td>\n",
       "      <td>-0.999135</td>\n",
       "      <td>105.313385</td>\n",
       "      <td>890.876953</td>\n",
       "      <td>1.201345</td>\n",
       "      <td>0.102733</td>\n",
       "      <td>2.339702</td>\n",
       "      <td>0.200050</td>\n",
       "      <td>0.997230</td>\n",
       "      <td>0.074380</td>\n",
       "    </tr>\n",
       "    <tr>\n",
       "      <th>1242630.0</th>\n",
       "      <td>0.0</td>\n",
       "      <td>50630.054688</td>\n",
       "      <td>50630.0</td>\n",
       "      <td>483.0</td>\n",
       "      <td>453.0</td>\n",
       "      <td>1.0</td>\n",
       "      <td>16.0</td>\n",
       "      <td>128.362183</td>\n",
       "      <td>885.724609</td>\n",
       "      <td>1.737911</td>\n",
       "      <td>...</td>\n",
       "      <td>0.999061</td>\n",
       "      <td>-0.043329</td>\n",
       "      <td>105.313385</td>\n",
       "      <td>890.876953</td>\n",
       "      <td>1.201345</td>\n",
       "      <td>0.102733</td>\n",
       "      <td>2.339702</td>\n",
       "      <td>0.200050</td>\n",
       "      <td>0.997230</td>\n",
       "      <td>0.074380</td>\n",
       "    </tr>\n",
       "    <tr>\n",
       "      <th>1242949.0</th>\n",
       "      <td>0.0</td>\n",
       "      <td>50630.085938</td>\n",
       "      <td>50630.0</td>\n",
       "      <td>483.0</td>\n",
       "      <td>465.0</td>\n",
       "      <td>104655.0</td>\n",
       "      <td>0.0</td>\n",
       "      <td>112.946655</td>\n",
       "      <td>891.530151</td>\n",
       "      <td>2.891205</td>\n",
       "      <td>...</td>\n",
       "      <td>0.996625</td>\n",
       "      <td>0.082089</td>\n",
       "      <td>105.313385</td>\n",
       "      <td>890.876953</td>\n",
       "      <td>1.201345</td>\n",
       "      <td>0.102733</td>\n",
       "      <td>2.339702</td>\n",
       "      <td>0.200050</td>\n",
       "      <td>0.997230</td>\n",
       "      <td>0.074380</td>\n",
       "    </tr>\n",
       "    <tr>\n",
       "      <th>1243296.0</th>\n",
       "      <td>0.0</td>\n",
       "      <td>50630.136719</td>\n",
       "      <td>50630.0</td>\n",
       "      <td>483.0</td>\n",
       "      <td>375.0</td>\n",
       "      <td>203755.0</td>\n",
       "      <td>16.0</td>\n",
       "      <td>168.147171</td>\n",
       "      <td>889.824219</td>\n",
       "      <td>1.045624</td>\n",
       "      <td>...</td>\n",
       "      <td>-0.999693</td>\n",
       "      <td>0.024765</td>\n",
       "      <td>105.313385</td>\n",
       "      <td>890.876953</td>\n",
       "      <td>1.201345</td>\n",
       "      <td>0.102733</td>\n",
       "      <td>2.339702</td>\n",
       "      <td>0.200050</td>\n",
       "      <td>0.997230</td>\n",
       "      <td>0.074380</td>\n",
       "    </tr>\n",
       "    <tr>\n",
       "      <th>...</th>\n",
       "      <td>...</td>\n",
       "      <td>...</td>\n",
       "      <td>...</td>\n",
       "      <td>...</td>\n",
       "      <td>...</td>\n",
       "      <td>...</td>\n",
       "      <td>...</td>\n",
       "      <td>...</td>\n",
       "      <td>...</td>\n",
       "      <td>...</td>\n",
       "      <td>...</td>\n",
       "      <td>...</td>\n",
       "      <td>...</td>\n",
       "      <td>...</td>\n",
       "      <td>...</td>\n",
       "      <td>...</td>\n",
       "      <td>...</td>\n",
       "      <td>...</td>\n",
       "      <td>...</td>\n",
       "      <td>...</td>\n",
       "      <td>...</td>\n",
       "    </tr>\n",
       "    <tr>\n",
       "      <th>22071060.0</th>\n",
       "      <td>0.0</td>\n",
       "      <td>54952.511719</td>\n",
       "      <td>54952.0</td>\n",
       "      <td>6987.0</td>\n",
       "      <td>7005.0</td>\n",
       "      <td>1070055.0</td>\n",
       "      <td>0.0</td>\n",
       "      <td>798.861694</td>\n",
       "      <td>755.069458</td>\n",
       "      <td>-9.387128</td>\n",
       "      <td>...</td>\n",
       "      <td>-0.938308</td>\n",
       "      <td>-0.345801</td>\n",
       "      <td>661.575928</td>\n",
       "      <td>869.253906</td>\n",
       "      <td>-9.801397</td>\n",
       "      <td>7.227239</td>\n",
       "      <td>-0.061888</td>\n",
       "      <td>0.046781</td>\n",
       "      <td>-0.532709</td>\n",
       "      <td>0.846298</td>\n",
       "    </tr>\n",
       "    <tr>\n",
       "      <th>22076992.0</th>\n",
       "      <td>0.0</td>\n",
       "      <td>54955.511719</td>\n",
       "      <td>54955.0</td>\n",
       "      <td>6987.0</td>\n",
       "      <td>7005.0</td>\n",
       "      <td>1070055.0</td>\n",
       "      <td>0.0</td>\n",
       "      <td>770.280823</td>\n",
       "      <td>769.493347</td>\n",
       "      <td>-2.319491</td>\n",
       "      <td>...</td>\n",
       "      <td>-0.037122</td>\n",
       "      <td>0.999311</td>\n",
       "      <td>632.321472</td>\n",
       "      <td>891.224792</td>\n",
       "      <td>-9.833694</td>\n",
       "      <td>7.404274</td>\n",
       "      <td>-0.791542</td>\n",
       "      <td>0.597037</td>\n",
       "      <td>-0.512208</td>\n",
       "      <td>0.858861</td>\n",
       "    </tr>\n",
       "    <tr>\n",
       "      <th>22079112.0</th>\n",
       "      <td>0.0</td>\n",
       "      <td>54956.511719</td>\n",
       "      <td>54956.0</td>\n",
       "      <td>6987.0</td>\n",
       "      <td>7005.0</td>\n",
       "      <td>1070055.0</td>\n",
       "      <td>0.0</td>\n",
       "      <td>771.762756</td>\n",
       "      <td>783.567261</td>\n",
       "      <td>0.709540</td>\n",
       "      <td>...</td>\n",
       "      <td>0.197765</td>\n",
       "      <td>0.980250</td>\n",
       "      <td>624.158325</td>\n",
       "      <td>897.272217</td>\n",
       "      <td>-6.404408</td>\n",
       "      <td>4.822350</td>\n",
       "      <td>3.596082</td>\n",
       "      <td>-2.705532</td>\n",
       "      <td>-0.539295</td>\n",
       "      <td>0.842117</td>\n",
       "    </tr>\n",
       "    <tr>\n",
       "      <th>22081274.0</th>\n",
       "      <td>0.0</td>\n",
       "      <td>54957.511719</td>\n",
       "      <td>54957.0</td>\n",
       "      <td>6987.0</td>\n",
       "      <td>7005.0</td>\n",
       "      <td>1070055.0</td>\n",
       "      <td>0.0</td>\n",
       "      <td>761.687134</td>\n",
       "      <td>793.540222</td>\n",
       "      <td>-10.997029</td>\n",
       "      <td>...</td>\n",
       "      <td>-0.634804</td>\n",
       "      <td>0.772673</td>\n",
       "      <td>619.569641</td>\n",
       "      <td>900.605164</td>\n",
       "      <td>-2.809288</td>\n",
       "      <td>2.115857</td>\n",
       "      <td>3.595928</td>\n",
       "      <td>-2.705686</td>\n",
       "      <td>-0.546452</td>\n",
       "      <td>0.837490</td>\n",
       "    </tr>\n",
       "    <tr>\n",
       "      <th>22081868.0</th>\n",
       "      <td>0.0</td>\n",
       "      <td>54957.820312</td>\n",
       "      <td>54957.0</td>\n",
       "      <td>6987.0</td>\n",
       "      <td>6855.0</td>\n",
       "      <td>1068555.0</td>\n",
       "      <td>16.0</td>\n",
       "      <td>907.851685</td>\n",
       "      <td>674.474304</td>\n",
       "      <td>-8.695618</td>\n",
       "      <td>...</td>\n",
       "      <td>-0.602685</td>\n",
       "      <td>0.797979</td>\n",
       "      <td>619.569641</td>\n",
       "      <td>900.605164</td>\n",
       "      <td>-2.809288</td>\n",
       "      <td>2.115857</td>\n",
       "      <td>3.595928</td>\n",
       "      <td>-2.705686</td>\n",
       "      <td>-0.546452</td>\n",
       "      <td>0.837490</td>\n",
       "    </tr>\n",
       "  </tbody>\n",
       "</table>\n",
       "<p>1501368 rows × 23 columns</p>\n",
       "</div>"
      ],
      "text/plain": [
       "            dataset_id  bsm_rcv_time  gps_rcv_time  receiver  sender  \\\n",
       "message_id                                                             \n",
       "1242184.0          0.0  50630.000000       50630.0     483.0   153.0   \n",
       "1242456.0          0.0  50630.054688       50630.0     483.0   447.0   \n",
       "1242630.0          0.0  50630.054688       50630.0     483.0   453.0   \n",
       "1242949.0          0.0  50630.085938       50630.0     483.0   465.0   \n",
       "1243296.0          0.0  50630.136719       50630.0     483.0   375.0   \n",
       "...                ...           ...           ...       ...     ...   \n",
       "22071060.0         0.0  54952.511719       54952.0    6987.0  7005.0   \n",
       "22076992.0         0.0  54955.511719       54955.0    6987.0  7005.0   \n",
       "22079112.0         0.0  54956.511719       54956.0    6987.0  7005.0   \n",
       "22081274.0         0.0  54957.511719       54957.0    6987.0  7005.0   \n",
       "22081868.0         0.0  54957.820312       54957.0    6987.0  6855.0   \n",
       "\n",
       "            sender_pseudo  attack_type   snd_pos_x   snd_pos_y  snd_spd_x  \\\n",
       "message_id                                                                  \n",
       "1242184.0             1.0         16.0  191.994217  889.174866   1.042158   \n",
       "1242456.0        104475.0          0.0  148.851456  918.103516   0.618876   \n",
       "1242630.0             1.0         16.0  128.362183  885.724609   1.737911   \n",
       "1242949.0        104655.0          0.0  112.946655  891.530151   2.891205   \n",
       "1243296.0        203755.0         16.0  168.147171  889.824219   1.045624   \n",
       "...                   ...          ...         ...         ...        ...   \n",
       "22071060.0      1070055.0          0.0  798.861694  755.069458  -9.387128   \n",
       "22076992.0      1070055.0          0.0  770.280823  769.493347  -2.319491   \n",
       "22079112.0      1070055.0          0.0  771.762756  783.567261   0.709540   \n",
       "22081274.0      1070055.0          0.0  761.687134  793.540222 -10.997029   \n",
       "22081868.0      1068555.0         16.0  907.851685  674.474304  -8.695618   \n",
       "\n",
       "            ...  snd_hed_x  snd_hed_y   rcv_pos_x   rcv_pos_y  rcv_spd_x  \\\n",
       "message_id  ...                                                            \n",
       "1242184.0   ...  -0.999513   0.031213  105.313385  890.876953   1.201345   \n",
       "1242456.0   ...   0.041573  -0.999135  105.313385  890.876953   1.201345   \n",
       "1242630.0   ...   0.999061  -0.043329  105.313385  890.876953   1.201345   \n",
       "1242949.0   ...   0.996625   0.082089  105.313385  890.876953   1.201345   \n",
       "1243296.0   ...  -0.999693   0.024765  105.313385  890.876953   1.201345   \n",
       "...         ...        ...        ...         ...         ...        ...   \n",
       "22071060.0  ...  -0.938308  -0.345801  661.575928  869.253906  -9.801397   \n",
       "22076992.0  ...  -0.037122   0.999311  632.321472  891.224792  -9.833694   \n",
       "22079112.0  ...   0.197765   0.980250  624.158325  897.272217  -6.404408   \n",
       "22081274.0  ...  -0.634804   0.772673  619.569641  900.605164  -2.809288   \n",
       "22081868.0  ...  -0.602685   0.797979  619.569641  900.605164  -2.809288   \n",
       "\n",
       "            rcv_spd_y  rcv_acl_x  rcv_acl_y  rcv_hed_x  rcv_hed_y  \n",
       "message_id                                                         \n",
       "1242184.0    0.102733   2.339702   0.200050   0.997230   0.074380  \n",
       "1242456.0    0.102733   2.339702   0.200050   0.997230   0.074380  \n",
       "1242630.0    0.102733   2.339702   0.200050   0.997230   0.074380  \n",
       "1242949.0    0.102733   2.339702   0.200050   0.997230   0.074380  \n",
       "1243296.0    0.102733   2.339702   0.200050   0.997230   0.074380  \n",
       "...               ...        ...        ...        ...        ...  \n",
       "22071060.0   7.227239  -0.061888   0.046781  -0.532709   0.846298  \n",
       "22076992.0   7.404274  -0.791542   0.597037  -0.512208   0.858861  \n",
       "22079112.0   4.822350   3.596082  -2.705532  -0.539295   0.842117  \n",
       "22081274.0   2.115857   3.595928  -2.705686  -0.546452   0.837490  \n",
       "22081868.0   2.115857   3.595928  -2.705686  -0.546452   0.837490  \n",
       "\n",
       "[1501368 rows x 23 columns]"
      ]
     },
     "execution_count": 10,
     "metadata": {},
     "output_type": "execute_result"
    }
   ],
   "source": [
    "veremi = np.memmap('veremi_aps.memmap', dtype='float32', mode='r', shape=(BSM_SIZE, N_FEATURES))\n",
    "\n",
    "df = pd.DataFrame(veremi, columns=[\n",
    "    'dataset_id',\n",
    "    'message_id',\n",
    "    'bsm_rcv_time',\n",
    "    'gps_rcv_time',\n",
    "    'receiver',\n",
    "    'sender',\n",
    "    'sender_pseudo',\n",
    "    'attack_type',\n",
    "    'snd_pos_x',\n",
    "    'snd_pos_y',\n",
    "    'snd_spd_x',\n",
    "    'snd_spd_y',\n",
    "    'snd_acl_x',\n",
    "    'snd_acl_y',\n",
    "    'snd_hed_x',\n",
    "    'snd_hed_y',\n",
    "    'rcv_pos_x',\n",
    "    'rcv_pos_y',\n",
    "    'rcv_spd_x',\n",
    "    'rcv_spd_y',\n",
    "    'rcv_acl_x',\n",
    "    'rcv_acl_y',\n",
    "    'rcv_hed_x',\n",
    "    'rcv_hed_y',\n",
    "])\n",
    "\n",
    "# remove any attack that is not congestion/GridSybil\n",
    "df.drop(df[~df.attack_type.isin([0, 16])].index, inplace=True)\n",
    "\n",
    "df.set_index('message_id', drop=True, inplace=True)\n",
    "df"
   ]
  },
  {
   "cell_type": "markdown",
   "id": "fbe186e9-8601-45c4-a938-68f65e623767",
   "metadata": {},
   "source": [
    "### Visualization\n",
    "\n",
    "A visualization of the genuine behavior and the attack behavior is shown in the following figure. In genuine behavior, it is possible to observe two vehicles in opposite directions, one as the sender and the other as the receiver. The flow is presented as clean and well-behaved. In turn, in the attack behavior, it is possible to see that a sender is sending messages with 6 different pseudonyms, and these are very close to the recipient, which causes congestion. Both images contain information from 10 seconds of the interaction."
   ]
  },
  {
   "cell_type": "code",
   "execution_count": 13,
   "id": "2b0233b0-63c6-4bd8-8488-1e032e1e1091",
   "metadata": {
    "tags": []
   },
   "outputs": [
    {
     "data": {
      "image/png": "[encoded data removed]",
      "text/plain": [
       "<Figure size 1200x500 with 2 Axes>"
      ]
     },
     "metadata": {},
     "output_type": "display_data"
    }
   ],
   "source": [
    "# df[df.attack_type == 0].groupby(['bsm_rcv_time_10s', 'sender', 'sender_pseudo', 'receiver']).snd_pos_x.size().sort_values(ascending=False)\n",
    "# df[df.attack_type == 16].groupby(['bsm_rcv_time_10s', 'sender', 'sender_pseudo', 'receiver']).snd_pos_x.size().sort_values(ascending=False)\n",
    "\n",
    "df['bsm_rcv_time_10s'] = df.bsm_rcv_time // 10\n",
    "\n",
    "def draw(ax, sender, receiver, bsm_rcv_time_10s, title):\n",
    "    def add_arrow(line, position=None, direction='right', size=25, color=None):\n",
    "        \"\"\"\n",
    "        add an arrow to a line.\n",
    "\n",
    "        line:       Line2D object\n",
    "        position:   x-position of the arrow. If None, mean of xdata is taken\n",
    "        direction:  'left' or 'right'\n",
    "        size:       size of the arrow in fontsize points\n",
    "        color:      if None, line color is taken.\n",
    "        \"\"\"\n",
    "        if color is None:\n",
    "            color = line.get_color()\n",
    "\n",
    "        xdata = line.get_xdata()\n",
    "        ydata = line.get_ydata()\n",
    "\n",
    "        if position is None:\n",
    "            position = xdata.mean()\n",
    "        # find closest index\n",
    "        start_ind = np.argmin(np.absolute(xdata - position))\n",
    "        if direction == 'right':\n",
    "            end_ind = start_ind + 1\n",
    "        else:\n",
    "            end_ind = start_ind - 1\n",
    "        line.axes.annotate('',\n",
    "            xytext=(xdata[start_ind], ydata[start_ind]),\n",
    "            xy=(xdata[end_ind], ydata[end_ind]),\n",
    "            arrowprops=dict(arrowstyle=\"->\", color=color),\n",
    "            size=size\n",
    "        )\n",
    "\n",
    "    x = df[(df.sender == sender)\n",
    "           & (df.receiver == receiver)\n",
    "           & (df.bsm_rcv_time_10s == bsm_rcv_time_10s)]\n",
    "    \n",
    "    \n",
    "    for i, sender_pseudo in enumerate(x.sender_pseudo.unique()):\n",
    "        x_pseudo = x[x.sender_pseudo == sender_pseudo]\n",
    "        line1 = ax.plot(x_pseudo.snd_pos_x, x_pseudo.snd_pos_y, linestyle='--', marker='o', label=f'Sender {i + 1}')[0]\n",
    "        add_arrow(line1)\n",
    "\n",
    "    line2 = ax.plot(x.rcv_pos_x, x.rcv_pos_y, linestyle='--', marker='o', label='Receiver')[0]\n",
    "    add_arrow(line2)\n",
    "    \n",
    "    ax.legend()\n",
    "\n",
    "    ax.set_title(title)\n",
    "    ax.set_xlabel('X') # position x\n",
    "    ax.set_ylabel('Y') # position y\n",
    "\n",
    "fig, axes = plt.subplots(nrows=1, ncols=2, figsize=(12, 5))\n",
    "\n",
    "draw(axes[0], sender=7449, receiver=7707, bsm_rcv_time_10s=5566, title='Genuine behavior')\n",
    "draw(axes[1], sender=2973, receiver=2985, bsm_rcv_time_10s=5199, title='Congestion attack behavior')\n",
    "\n",
    "fig.show()"
   ]
  },
  {
   "cell_type": "markdown",
   "id": "55f2c31c-0b1f-41e5-ae6f-b1de8485b53c",
   "metadata": {},
   "source": [
    "## Dynamic graphs\n",
    "\n",
    "A dynamic graph is one in which connections change over time. There are two main ways to represent dynamic graphs:\n",
    "\n",
    "* Discrete dynamic graph: these are sequences of \"snapshots\" of static graphs.\n",
    "\n",
    "* Continuous dynamic graph: more general representation, and are represented as lists of events with timestamps, which may include the addition or removal of edges, nodes or transformations of edge features.\n",
    "\n",
    "The model chosen to be worked on is the Temporal Graph Network (TGN), presented in [1]. This model uses a continuous dynamic graph as input, therefore, it is necessary to transform the VeReMi data to apply the model.\n",
    "\n",
    "### Data processing\n",
    "\n",
    "The data is already in the form of event lists, so few changes are needed.\n",
    "\n",
    "In this work, a case is tested where upon receiving the message, the user does not have the global ID of the sending vehicle, only a pseudonym used for occasional transmissions. This makes the work more complex to identify attackers, as each vehicle simulated by the attacker will be interpreted as a separate vehicle."
   ]
  },
  {
   "cell_type": "code",
   "execution_count": 15,
   "id": "2cc0f1fb-5f9f-4813-a5e7-800f9c19cdb0",
   "metadata": {
    "tags": []
   },
   "outputs": [
    {
     "data": {
      "text/html": [
       "<div>\n",
       "<style scoped>\n",
       "    .dataframe tbody tr th:only-of-type {\n",
       "        vertical-align: middle;\n",
       "    }\n",
       "\n",
       "    .dataframe tbody tr th {\n",
       "        vertical-align: top;\n",
       "    }\n",
       "\n",
       "    .dataframe thead th {\n",
       "        text-align: right;\n",
       "    }\n",
       "</style>\n",
       "<table border=\"1\" class=\"dataframe\">\n",
       "  <thead>\n",
       "    <tr style=\"text-align: right;\">\n",
       "      <th></th>\n",
       "      <th>sender</th>\n",
       "      <th>receiver</th>\n",
       "      <th>timestamp</th>\n",
       "      <th>y</th>\n",
       "      <th>snd_pos_x</th>\n",
       "      <th>snd_pos_y</th>\n",
       "      <th>snd_spd_x</th>\n",
       "      <th>snd_spd_y</th>\n",
       "      <th>snd_acl_x</th>\n",
       "      <th>snd_acl_y</th>\n",
       "      <th>snd_hed_x</th>\n",
       "      <th>snd_hed_y</th>\n",
       "      <th>rcv_pos_x</th>\n",
       "      <th>rcv_pos_y</th>\n",
       "      <th>rcv_spd_x</th>\n",
       "      <th>rcv_spd_y</th>\n",
       "      <th>rcv_acl_x</th>\n",
       "      <th>rcv_acl_y</th>\n",
       "      <th>rcv_hed_x</th>\n",
       "      <th>rcv_hed_y</th>\n",
       "    </tr>\n",
       "    <tr>\n",
       "      <th>message_id</th>\n",
       "      <th></th>\n",
       "      <th></th>\n",
       "      <th></th>\n",
       "      <th></th>\n",
       "      <th></th>\n",
       "      <th></th>\n",
       "      <th></th>\n",
       "      <th></th>\n",
       "      <th></th>\n",
       "      <th></th>\n",
       "      <th></th>\n",
       "      <th></th>\n",
       "      <th></th>\n",
       "      <th></th>\n",
       "      <th></th>\n",
       "      <th></th>\n",
       "      <th></th>\n",
       "      <th></th>\n",
       "      <th></th>\n",
       "      <th></th>\n",
       "    </tr>\n",
       "  </thead>\n",
       "  <tbody>\n",
       "    <tr>\n",
       "      <th>8488.0</th>\n",
       "      <td>0</td>\n",
       "      <td>0</td>\n",
       "      <td>0</td>\n",
       "      <td>0</td>\n",
       "      <td>1317.556519</td>\n",
       "      <td>1013.471680</td>\n",
       "      <td>-0.905959</td>\n",
       "      <td>-1.427456</td>\n",
       "      <td>-0.919148</td>\n",
       "      <td>-1.448250</td>\n",
       "      <td>-0.540489</td>\n",
       "      <td>-0.841351</td>\n",
       "      <td>1370.894531</td>\n",
       "      <td>1273.314575</td>\n",
       "      <td>0.751064</td>\n",
       "      <td>-1.693233</td>\n",
       "      <td>0.821147</td>\n",
       "      <td>-1.851266</td>\n",
       "      <td>0.395492</td>\n",
       "      <td>-0.918469</td>\n",
       "    </tr>\n",
       "    <tr>\n",
       "      <th>8543.0</th>\n",
       "      <td>1</td>\n",
       "      <td>1</td>\n",
       "      <td>23</td>\n",
       "      <td>1</td>\n",
       "      <td>1370.894531</td>\n",
       "      <td>1273.314575</td>\n",
       "      <td>0.751064</td>\n",
       "      <td>-1.693233</td>\n",
       "      <td>0.821147</td>\n",
       "      <td>-1.851266</td>\n",
       "      <td>0.395492</td>\n",
       "      <td>-0.918469</td>\n",
       "      <td>1317.556519</td>\n",
       "      <td>1013.471680</td>\n",
       "      <td>-0.905959</td>\n",
       "      <td>-1.427456</td>\n",
       "      <td>-0.919148</td>\n",
       "      <td>-1.448250</td>\n",
       "      <td>-0.540489</td>\n",
       "      <td>-0.841351</td>\n",
       "    </tr>\n",
       "    <tr>\n",
       "      <th>8598.0</th>\n",
       "      <td>2</td>\n",
       "      <td>1</td>\n",
       "      <td>523</td>\n",
       "      <td>1</td>\n",
       "      <td>1323.744995</td>\n",
       "      <td>1023.234192</td>\n",
       "      <td>-0.901368</td>\n",
       "      <td>-1.481382</td>\n",
       "      <td>-0.919148</td>\n",
       "      <td>-1.448250</td>\n",
       "      <td>-0.544698</td>\n",
       "      <td>-0.838632</td>\n",
       "      <td>1316.286377</td>\n",
       "      <td>1011.183899</td>\n",
       "      <td>-1.902815</td>\n",
       "      <td>-2.998132</td>\n",
       "      <td>-1.038526</td>\n",
       "      <td>-1.636348</td>\n",
       "      <td>-0.544954</td>\n",
       "      <td>-0.838466</td>\n",
       "    </tr>\n",
       "    <tr>\n",
       "      <th>8652.0</th>\n",
       "      <td>0</td>\n",
       "      <td>0</td>\n",
       "      <td>1000</td>\n",
       "      <td>0</td>\n",
       "      <td>1316.286377</td>\n",
       "      <td>1011.183899</td>\n",
       "      <td>-1.902815</td>\n",
       "      <td>-2.998132</td>\n",
       "      <td>-1.038526</td>\n",
       "      <td>-1.636348</td>\n",
       "      <td>-0.544954</td>\n",
       "      <td>-0.838466</td>\n",
       "      <td>1372.008911</td>\n",
       "      <td>1270.613403</td>\n",
       "      <td>1.601821</td>\n",
       "      <td>-3.611291</td>\n",
       "      <td>1.022110</td>\n",
       "      <td>-2.304273</td>\n",
       "      <td>0.395492</td>\n",
       "      <td>-0.918469</td>\n",
       "    </tr>\n",
       "    <tr>\n",
       "      <th>8667.0</th>\n",
       "      <td>1</td>\n",
       "      <td>1</td>\n",
       "      <td>1023</td>\n",
       "      <td>1</td>\n",
       "      <td>1372.008911</td>\n",
       "      <td>1270.613403</td>\n",
       "      <td>1.601821</td>\n",
       "      <td>-3.611291</td>\n",
       "      <td>1.022110</td>\n",
       "      <td>-2.304273</td>\n",
       "      <td>0.395492</td>\n",
       "      <td>-0.918469</td>\n",
       "      <td>1316.286377</td>\n",
       "      <td>1011.183899</td>\n",
       "      <td>-1.902815</td>\n",
       "      <td>-2.998132</td>\n",
       "      <td>-1.038526</td>\n",
       "      <td>-1.636348</td>\n",
       "      <td>-0.544954</td>\n",
       "      <td>-0.838466</td>\n",
       "    </tr>\n",
       "    <tr>\n",
       "      <th>...</th>\n",
       "      <td>...</td>\n",
       "      <td>...</td>\n",
       "      <td>...</td>\n",
       "      <td>...</td>\n",
       "      <td>...</td>\n",
       "      <td>...</td>\n",
       "      <td>...</td>\n",
       "      <td>...</td>\n",
       "      <td>...</td>\n",
       "      <td>...</td>\n",
       "      <td>...</td>\n",
       "      <td>...</td>\n",
       "      <td>...</td>\n",
       "      <td>...</td>\n",
       "      <td>...</td>\n",
       "      <td>...</td>\n",
       "      <td>...</td>\n",
       "      <td>...</td>\n",
       "      <td>...</td>\n",
       "      <td>...</td>\n",
       "    </tr>\n",
       "    <tr>\n",
       "      <th>30255274.0</th>\n",
       "      <td>3716</td>\n",
       "      <td>1684</td>\n",
       "      <td>7195371</td>\n",
       "      <td>1</td>\n",
       "      <td>143.223511</td>\n",
       "      <td>914.516357</td>\n",
       "      <td>0.000325</td>\n",
       "      <td>0.000306</td>\n",
       "      <td>0.000315</td>\n",
       "      <td>0.000315</td>\n",
       "      <td>0.043755</td>\n",
       "      <td>-0.999042</td>\n",
       "      <td>153.086700</td>\n",
       "      <td>906.337280</td>\n",
       "      <td>0.002838</td>\n",
       "      <td>-0.038102</td>\n",
       "      <td>-0.002987</td>\n",
       "      <td>0.040353</td>\n",
       "      <td>0.018681</td>\n",
       "      <td>-0.999825</td>\n",
       "    </tr>\n",
       "    <tr>\n",
       "      <th>30255340.0</th>\n",
       "      <td>3657</td>\n",
       "      <td>1659</td>\n",
       "      <td>7195375</td>\n",
       "      <td>0</td>\n",
       "      <td>359.104095</td>\n",
       "      <td>250.957169</td>\n",
       "      <td>-10.341017</td>\n",
       "      <td>-3.913756</td>\n",
       "      <td>0.034676</td>\n",
       "      <td>0.013238</td>\n",
       "      <td>-0.976025</td>\n",
       "      <td>-0.217660</td>\n",
       "      <td>260.708710</td>\n",
       "      <td>220.149994</td>\n",
       "      <td>-0.654565</td>\n",
       "      <td>-0.104543</td>\n",
       "      <td>4.447416</td>\n",
       "      <td>0.718211</td>\n",
       "      <td>-0.999760</td>\n",
       "      <td>-0.021888</td>\n",
       "    </tr>\n",
       "    <tr>\n",
       "      <th>30255340.0</th>\n",
       "      <td>3657</td>\n",
       "      <td>1685</td>\n",
       "      <td>7195375</td>\n",
       "      <td>0</td>\n",
       "      <td>359.104095</td>\n",
       "      <td>250.957169</td>\n",
       "      <td>-10.341017</td>\n",
       "      <td>-3.913756</td>\n",
       "      <td>0.034676</td>\n",
       "      <td>0.013238</td>\n",
       "      <td>-0.976025</td>\n",
       "      <td>-0.217660</td>\n",
       "      <td>248.206650</td>\n",
       "      <td>197.392517</td>\n",
       "      <td>-2.261526</td>\n",
       "      <td>15.618645</td>\n",
       "      <td>0.075500</td>\n",
       "      <td>-0.520631</td>\n",
       "      <td>-0.119704</td>\n",
       "      <td>0.992810</td>\n",
       "    </tr>\n",
       "    <tr>\n",
       "      <th>30255384.0</th>\n",
       "      <td>3658</td>\n",
       "      <td>1685</td>\n",
       "      <td>7195390</td>\n",
       "      <td>0</td>\n",
       "      <td>260.708710</td>\n",
       "      <td>220.149994</td>\n",
       "      <td>-0.654565</td>\n",
       "      <td>-0.104543</td>\n",
       "      <td>4.447416</td>\n",
       "      <td>0.718211</td>\n",
       "      <td>-0.999760</td>\n",
       "      <td>-0.021888</td>\n",
       "      <td>248.206650</td>\n",
       "      <td>197.392517</td>\n",
       "      <td>-2.261526</td>\n",
       "      <td>15.618645</td>\n",
       "      <td>0.075500</td>\n",
       "      <td>-0.520631</td>\n",
       "      <td>-0.119704</td>\n",
       "      <td>0.992810</td>\n",
       "    </tr>\n",
       "    <tr>\n",
       "      <th>30255384.0</th>\n",
       "      <td>3658</td>\n",
       "      <td>1658</td>\n",
       "      <td>7195390</td>\n",
       "      <td>0</td>\n",
       "      <td>260.708710</td>\n",
       "      <td>220.149994</td>\n",
       "      <td>-0.654565</td>\n",
       "      <td>-0.104543</td>\n",
       "      <td>4.447416</td>\n",
       "      <td>0.718211</td>\n",
       "      <td>-0.999760</td>\n",
       "      <td>-0.021888</td>\n",
       "      <td>359.104095</td>\n",
       "      <td>250.957169</td>\n",
       "      <td>-10.341017</td>\n",
       "      <td>-3.913756</td>\n",
       "      <td>0.034676</td>\n",
       "      <td>0.013238</td>\n",
       "      <td>-0.976025</td>\n",
       "      <td>-0.217660</td>\n",
       "    </tr>\n",
       "  </tbody>\n",
       "</table>\n",
       "<p>1501368 rows × 20 columns</p>\n",
       "</div>"
      ],
      "text/plain": [
       "            sender  receiver  timestamp  y    snd_pos_x    snd_pos_y  \\\n",
       "message_id                                                             \n",
       "8488.0           0         0          0  0  1317.556519  1013.471680   \n",
       "8543.0           1         1         23  1  1370.894531  1273.314575   \n",
       "8598.0           2         1        523  1  1323.744995  1023.234192   \n",
       "8652.0           0         0       1000  0  1316.286377  1011.183899   \n",
       "8667.0           1         1       1023  1  1372.008911  1270.613403   \n",
       "...            ...       ...        ... ..          ...          ...   \n",
       "30255274.0    3716      1684    7195371  1   143.223511   914.516357   \n",
       "30255340.0    3657      1659    7195375  0   359.104095   250.957169   \n",
       "30255340.0    3657      1685    7195375  0   359.104095   250.957169   \n",
       "30255384.0    3658      1685    7195390  0   260.708710   220.149994   \n",
       "30255384.0    3658      1658    7195390  0   260.708710   220.149994   \n",
       "\n",
       "            snd_spd_x  snd_spd_y  snd_acl_x  snd_acl_y  snd_hed_x  snd_hed_y  \\\n",
       "message_id                                                                     \n",
       "8488.0      -0.905959  -1.427456  -0.919148  -1.448250  -0.540489  -0.841351   \n",
       "8543.0       0.751064  -1.693233   0.821147  -1.851266   0.395492  -0.918469   \n",
       "8598.0      -0.901368  -1.481382  -0.919148  -1.448250  -0.544698  -0.838632   \n",
       "8652.0      -1.902815  -2.998132  -1.038526  -1.636348  -0.544954  -0.838466   \n",
       "8667.0       1.601821  -3.611291   1.022110  -2.304273   0.395492  -0.918469   \n",
       "...               ...        ...        ...        ...        ...        ...   \n",
       "30255274.0   0.000325   0.000306   0.000315   0.000315   0.043755  -0.999042   \n",
       "30255340.0 -10.341017  -3.913756   0.034676   0.013238  -0.976025  -0.217660   \n",
       "30255340.0 -10.341017  -3.913756   0.034676   0.013238  -0.976025  -0.217660   \n",
       "30255384.0  -0.654565  -0.104543   4.447416   0.718211  -0.999760  -0.021888   \n",
       "30255384.0  -0.654565  -0.104543   4.447416   0.718211  -0.999760  -0.021888   \n",
       "\n",
       "              rcv_pos_x    rcv_pos_y  rcv_spd_x  rcv_spd_y  rcv_acl_x  \\\n",
       "message_id                                                              \n",
       "8488.0      1370.894531  1273.314575   0.751064  -1.693233   0.821147   \n",
       "8543.0      1317.556519  1013.471680  -0.905959  -1.427456  -0.919148   \n",
       "8598.0      1316.286377  1011.183899  -1.902815  -2.998132  -1.038526   \n",
       "8652.0      1372.008911  1270.613403   1.601821  -3.611291   1.022110   \n",
       "8667.0      1316.286377  1011.183899  -1.902815  -2.998132  -1.038526   \n",
       "...                 ...          ...        ...        ...        ...   \n",
       "30255274.0   153.086700   906.337280   0.002838  -0.038102  -0.002987   \n",
       "30255340.0   260.708710   220.149994  -0.654565  -0.104543   4.447416   \n",
       "30255340.0   248.206650   197.392517  -2.261526  15.618645   0.075500   \n",
       "30255384.0   248.206650   197.392517  -2.261526  15.618645   0.075500   \n",
       "30255384.0   359.104095   250.957169 -10.341017  -3.913756   0.034676   \n",
       "\n",
       "            rcv_acl_y  rcv_hed_x  rcv_hed_y  \n",
       "message_id                                   \n",
       "8488.0      -1.851266   0.395492  -0.918469  \n",
       "8543.0      -1.448250  -0.540489  -0.841351  \n",
       "8598.0      -1.636348  -0.544954  -0.838466  \n",
       "8652.0      -2.304273   0.395492  -0.918469  \n",
       "8667.0      -1.636348  -0.544954  -0.838466  \n",
       "...               ...        ...        ...  \n",
       "30255274.0   0.040353   0.018681  -0.999825  \n",
       "30255340.0   0.718211  -0.999760  -0.021888  \n",
       "30255340.0  -0.520631  -0.119704   0.992810  \n",
       "30255384.0  -0.520631  -0.119704   0.992810  \n",
       "30255384.0   0.013238  -0.976025  -0.217660  \n",
       "\n",
       "[1501368 rows x 20 columns]"
      ]
     },
     "execution_count": 15,
     "metadata": {},
     "output_type": "execute_result"
    }
   ],
   "source": [
    "feats = ['snd_pos_x', 'snd_pos_y', 'snd_spd_x', 'snd_spd_y',\n",
    "         'snd_acl_x', 'snd_acl_y', 'snd_hed_x', 'snd_hed_y',\n",
    "         'rcv_pos_x', 'rcv_pos_y', 'rcv_spd_x', 'rcv_spd_y',\n",
    "         'rcv_acl_x', 'rcv_acl_y', 'rcv_hed_x', 'rcv_hed_y']\n",
    "\n",
    "# Order by received time\n",
    "df.sort_values('bsm_rcv_time', inplace=True)\n",
    "\n",
    "# Using pseudonym as a sender\n",
    "df['sender_id'] = df.apply(lambda row: f\"{row['sender']}_{row['sender_pseudo']}\", axis=1)\n",
    "\n",
    "# reset sender id\n",
    "df['sender_id'], _ = pd.factorize(df['sender_id'])\n",
    "\n",
    "# Reset receiver id\n",
    "df['receiver_id'], _ = pd.factorize(df['receiver'])\n",
    "\n",
    "# time as an integer\n",
    "df['bsm_rcv_time'] = ((df.bsm_rcv_time - df.bsm_rcv_time.min()) * 1e3).astype(int)\n",
    "\n",
    "def group_feats(x):\n",
    "    return x[feats].tolist()\n",
    "\n",
    "# Dataset structure [2]\n",
    "data = pd.concat([\n",
    "    pd.DataFrame({\n",
    "        'sender': df.sender_id,\n",
    "        'receiver': df.receiver_id,\n",
    "        'timestamp': df.bsm_rcv_time,\n",
    "        'y': (df.attack_type > 0).astype(int),\n",
    "    }),\n",
    "    df[feats],\n",
    "], axis=1)\n",
    "\n",
    "data.to_csv('data/VeReMi/congestion/raw/congestion.csv', index=False)\n",
    "\n",
    "data"
   ]
  },
  {
   "cell_type": "markdown",
   "id": "488ddbd1-8d0f-40ca-a437-fb3f04805804",
   "metadata": {},
   "source": [
    "The graph has 1501368 interactions, between 3726 senders and 1688 recipients. In this problem, the graph is treated as a bipartite graph, since the senders cannot be re-identified.\n",
    "\n",
    "To consume the data, an `InMemoryDataset` present in the torch_geometric library is used, and this dataset contains `TemporalData`, which is the representation used for continuous dynamic graphs in this library.\n",
    "\n",
    "Here, I reduced the number of features after some tests, leaving only the position and speed features of both the sender and the receiver.\n",
    "\n",
    "This class was adapted from [2]."
   ]
  },
  {
   "cell_type": "code",
   "execution_count": 16,
   "id": "2f4f932a-ce3e-4192-9e35-fa86677a46c3",
   "metadata": {
    "tags": []
   },
   "outputs": [],
   "source": [
    "import os.path as osp\n",
    "from typing import Callable, Optional\n",
    "import torch\n",
    "from torch_geometric.data import InMemoryDataset, TemporalData\n",
    "\n",
    "class VeReMiDataset(InMemoryDataset):\n",
    "    names = ['congestion']\n",
    "    def __init__(\n",
    "        self,\n",
    "        root: str,\n",
    "        name: str,\n",
    "        transform: Optional[Callable] = None,\n",
    "        pre_transform: Optional[Callable] = None,\n",
    "    ):\n",
    "        self.name = name.lower()\n",
    "        assert self.name in self.names\n",
    "\n",
    "        super().__init__(root, transform, pre_transform)\n",
    "        self.load(self.processed_paths[0], data_cls=TemporalData)\n",
    "\n",
    "    @property\n",
    "    def raw_dir(self) -> str:\n",
    "        return osp.join(self.root, self.name, 'raw')\n",
    "\n",
    "    @property\n",
    "    def processed_dir(self) -> str:\n",
    "        return osp.join(self.root, self.name, 'processed')\n",
    "\n",
    "    @property\n",
    "    def raw_file_names(self) -> str:\n",
    "        return f'{self.name}.csv'\n",
    "\n",
    "    @property\n",
    "    def processed_file_names(self) -> str:\n",
    "        return 'data.pt'\n",
    "\n",
    "    def process(self):\n",
    "        import pandas as pd\n",
    "        df = pd.read_csv(self.raw_paths[0], skiprows=1, header=None)\n",
    "\n",
    "        # sender\n",
    "        src = torch.from_numpy(df.iloc[:, 0].values).to(torch.long)\n",
    "        \n",
    "        # receiver\n",
    "        dst = torch.from_numpy(df.iloc[:, 1].values).to(torch.long)\n",
    "        \n",
    "        dst += int(src.max()) + 1\n",
    "        \n",
    "        # timestamp\n",
    "        t = torch.from_numpy(df.iloc[:, 2].values).to(torch.long)\n",
    "        \n",
    "        # label, if it's an attack interaction or not\n",
    "        y = torch.from_numpy(df.iloc[:, 3].values).to(torch.float)\n",
    "\n",
    "        # message\n",
    "        msg_src = torch.from_numpy(df.iloc[:, 4:8].values).to(torch.float)\n",
    "        msg_dst = torch.from_numpy(df.iloc[:, 12:16].values).to(torch.float)\n",
    "        msg = torch.cat([msg_src, msg_dst], axis=1)\n",
    "\n",
    "        data = TemporalData(src=src, dst=dst, t=t, msg=msg, y=y)\n",
    "\n",
    "        if self.pre_transform is not None:\n",
    "            data = self.pre_transform(data)\n",
    "\n",
    "        self.save([data], self.processed_paths[0])\n",
    "\n",
    "    def __repr__(self) -> str:\n",
    "        return f'{self.name.capitalize()}()'"
   ]
  },
  {
   "cell_type": "code",
   "execution_count": 17,
   "id": "7cd87565-1f08-406b-9167-08d4f99e0102",
   "metadata": {
    "tags": []
   },
   "outputs": [
    {
     "data": {
      "text/plain": [
       "TemporalData(src=[1501368], dst=[1501368], t=[1501368], msg=[1501368, 8], y=[1501368])"
      ]
     },
     "execution_count": 17,
     "metadata": {},
     "output_type": "execute_result"
    }
   ],
   "source": [
    "from torch_geometric.transforms import NormalizeFeatures\n",
    "\n",
    "device = torch.device('cuda' if torch.cuda.is_available() else 'cpu')\n",
    "path = osp.join('data', 'VeReMi')\n",
    "\n",
    "dataset = VeReMiDataset(path, name='congestion')\n",
    "data = dataset[0]\n",
    "\n",
    "data = data.to(device)\n",
    "\n",
    "normalizer = NormalizeFeatures()\n",
    "data = normalizer(data)\n",
    "\n",
    "data"
   ]
  },
  {
   "cell_type": "code",
   "execution_count": 18,
   "id": "bef8d753-1f96-48a0-a50e-41cc92b135df",
   "metadata": {
    "tags": []
   },
   "outputs": [
    {
     "name": "stdout",
     "output_type": "stream",
     "text": [
      "Links/interactions: 1501368, Nodes: 5414\n"
     ]
    }
   ],
   "source": [
    "print(f'Links/interactions: {data.num_edges}, Nodes: {data.num_nodes}')"
   ]
  },
  {
   "cell_type": "markdown",
   "id": "656f4ec4-f74e-499a-969b-63ebf3c7d505",
   "metadata": {},
   "source": [
    "## Model\n",
    "\n",
    "The model implementation was adapted from the example provided by the Torch Geometric library in [3].\n",
    "\n",
    "A binary link classification model is used, and training is done in a supervised manner, using the attack labels provided in the dataset."
   ]
  },
  {
   "cell_type": "code",
   "execution_count": 23,
   "id": "414ccba1-a3ab-4af2-af1d-2756426b8651",
   "metadata": {
    "tags": []
   },
   "outputs": [],
   "source": [
    "from sklearn.metrics import average_precision_score, precision_score, recall_score, f1_score, roc_auc_score\n",
    "from torch_geometric.loader import TemporalDataLoader\n",
    "from torch_geometric.nn import TGNMemory, TransformerConv\n",
    "from torch_geometric.nn.models.tgn import (\n",
    "    IdentityMessage,\n",
    "    LastAggregator,\n",
    "    LastNeighborLoader,\n",
    ")"
   ]
  },
  {
   "cell_type": "markdown",
   "id": "f2859454-669b-4b1c-9ebd-8d1204331792",
   "metadata": {},
   "source": [
    "#### Module 1 - Load neighbors\n",
    "\n",
    "The first step of the model is neighbor loading. For this, the `LastNeighborLoader` class present in the library is used. This class returns the last neighbors of the sample node found, which are stored in a graph that keeps growing during training and testing [4]. It will also return a subgraph containing the interactions between the searched node and its neighbors. It is used to sample the proximity of the region to the analyzed node.\n",
    "\n",
    "#### Module 2 - Memory\n",
    "\n",
    "The second part of the model is memory, which aims to represent the history of a node in a compressed format. When a node is found, its memory is initialized to zero and for each event involving that node, it is updated, building a structure that allows the memorization of long-term dependencies [1]. It uses a recurrent neural network of the Gated Recurrent Unit (GRU) type to update the memory. It is also already implemented in the library and is provided by the `TGNMemory` class.\n",
    "\n",
    "#### Module 3 - Embedding with attention\n",
    "\n",
    "This module is responsible for generating embeddings for the sample nodes in time t. It uses a temporal encoder provided in the `TGNMemory` module, which is a linear layer with a trigometric function at the end. It also uses a `TransformerConv` layer, which performs \"message-passing\" in the graph also using the attention mechanism of the Transformers models."
   ]
  },
  {
   "cell_type": "code",
   "execution_count": 24,
   "id": "4f4f7cd3-e590-4178-b6fd-6a8620f67a07",
   "metadata": {
    "tags": []
   },
   "outputs": [],
   "source": [
    "class GraphAttentionEmbedding(torch.nn.Module):\n",
    "    def __init__(self, in_channels, out_channels, msg_dim, time_enc, n_heads=2):\n",
    "        super().__init__()\n",
    "        self.time_enc = time_enc\n",
    "        edge_dim = msg_dim + time_enc.out_channels\n",
    "        self.conv = TransformerConv(in_channels, out_channels // n_heads, heads=n_heads,\n",
    "                                    dropout=0, edge_dim=edge_dim)\n",
    "\n",
    "    def forward(self, x, last_update, edge_index, t, msg):\n",
    "        rel_t = last_update[edge_index[0]] - t\n",
    "        rel_t_enc = self.time_enc(rel_t.to(x.dtype))\n",
    "        edge_attr = torch.cat([rel_t_enc, msg], dim=-1)\n",
    "        return self.conv(x, edge_index, edge_attr).relu()"
   ]
  },
  {
   "cell_type": "markdown",
   "id": "795a3ee0-3edd-4c89-a4de-6cbf627775d6",
   "metadata": {},
   "source": [
    "#### Module 4 - Link Classifier\n",
    "\n",
    "This module performs the edge classification based on the embedding generated in the previous module. It uses a simple dense neural network to perform this classification."
   ]
  },
  {
   "cell_type": "code",
   "execution_count": 25,
   "id": "2b76c5cc-8f08-4f07-8bd3-725aeb48afc4",
   "metadata": {
    "tags": []
   },
   "outputs": [],
   "source": [
    "class LinkClassifier(torch.nn.Module):\n",
    "    def __init__(self, in_channels):\n",
    "        super().__init__()\n",
    "        self.lin = torch.nn.Sequential(\n",
    "            torch.nn.Linear(in_channels * 2, in_channels),\n",
    "            torch.nn.ReLU(),\n",
    "            torch.nn.Linear(in_channels, 1),\n",
    "        )\n",
    "\n",
    "    def forward(self, z_src, z_dst):\n",
    "        h = torch.cat([z_src, z_dst], axis=1)\n",
    "        return self.lin(h)"
   ]
  },
  {
   "cell_type": "markdown",
   "id": "65a8fec9-1f23-4f65-971d-73cb36219b1d",
   "metadata": {},
   "source": [
    "#### Final model"
   ]
  },
  {
   "cell_type": "code",
   "execution_count": 26,
   "id": "1f839bb9-b779-466f-878e-f9410d3ca8f7",
   "metadata": {
    "tags": []
   },
   "outputs": [],
   "source": [
    "class TGN(torch.nn.Module):\n",
    "    def __init__(self, memory_dim,\n",
    "                       time_dim,\n",
    "                       embedding_dim,\n",
    "                       num_nodes,\n",
    "                       msg_size,\n",
    "                       n_heads,\n",
    "                       neighbor_size):\n",
    "        super().__init__()\n",
    "        self.neighbor_loader = LastNeighborLoader(num_nodes, size=neighbor_size)\n",
    "\n",
    "        self.memory = TGNMemory(\n",
    "            num_nodes,\n",
    "            msg_size,\n",
    "            memory_dim,\n",
    "            time_dim,\n",
    "            message_module=IdentityMessage(msg_size, memory_dim, time_dim),\n",
    "            aggregator_module=LastAggregator(),\n",
    "        )\n",
    "        \n",
    "        self.gnn = GraphAttentionEmbedding(\n",
    "            in_channels=memory_dim,\n",
    "            out_channels=embedding_dim,\n",
    "            msg_dim=msg_size,\n",
    "            time_enc=self.memory.time_enc,\n",
    "            n_heads=n_heads,\n",
    "        )\n",
    "\n",
    "        self.link_class = LinkClassifier(in_channels=embedding_dim)\n",
    "        \n",
    "        # Vetor auxiliar para mapear os nós globais para locais.\n",
    "        assoc = torch.empty(num_nodes, dtype=torch.long, device=device)\n",
    "        self.register_buffer('assoc', assoc)\n",
    "\n",
    "    def reset(self):\n",
    "        self.memory.reset_state() # Reseta a memória\n",
    "        self.neighbor_loader.reset_state() # Reseta o grafo\n",
    "    \n",
    "    def update_memory(self, x):\n",
    "        # Atualiza a memoria e a vizinhança\n",
    "        self.memory.update_state(x.src, x.dst, x.t, x.msg)\n",
    "        self.neighbor_loader.insert(x.src, x.dst)\n",
    "\n",
    "    def forward(self, x, data):\n",
    "        n_id, edge_index, e_id = self.neighbor_loader(x.n_id)\n",
    "        self.assoc[n_id] = torch.arange(n_id.size(0))\n",
    "\n",
    "        # Consulta a memória\n",
    "        z, last_update = self.memory(n_id)\n",
    "        \n",
    "        z = self.gnn(z, last_update, edge_index, data.t[e_id], data.msg[e_id])\n",
    "\n",
    "        out = self.link_class(z[self.assoc[x.src]], z[self.assoc[x.dst]])\n",
    "        \n",
    "        self.update_memory(x)\n",
    "\n",
    "        return out"
   ]
  },
  {
   "cell_type": "markdown",
   "id": "10f31c49-c090-461f-b6b4-c53b245e00f9",
   "metadata": {},
   "source": [
    "### Training\n",
    "\n",
    "Training is conducted for 50 epochs, using a batch_size of 200, with a split of 80% for training and 20% for testing."
   ]
  },
  {
   "cell_type": "code",
   "execution_count": 27,
   "id": "7e29e015-1962-4de6-9943-7c7d33aeea8b",
   "metadata": {
    "tags": []
   },
   "outputs": [],
   "source": [
    "# hyperparameters\n",
    "memory_dim = 256\n",
    "time_dim = 256\n",
    "embedding_dim = 256\n",
    "neighbor_size = 20\n",
    "n_heads = 4\n",
    "\n",
    "model = TGN(memory_dim=memory_dim,\n",
    "            time_dim=time_dim,\n",
    "            embedding_dim=embedding_dim,\n",
    "            num_nodes=data.num_nodes,\n",
    "            msg_size=data.msg.size(-1),\n",
    "            n_heads=n_heads,\n",
    "            neighbor_size=neighbor_size).to(device)"
   ]
  },
  {
   "cell_type": "code",
   "execution_count": 28,
   "id": "2815b32f-2ef8-437d-ad80-eeb07399e098",
   "metadata": {
    "tags": []
   },
   "outputs": [],
   "source": [
    "train_data, _, test_data = data.train_val_test_split(\n",
    "    val_ratio=0, test_ratio=0.2)\n",
    "\n",
    "batch_size = 512\n",
    "\n",
    "train_loader = TemporalDataLoader(\n",
    "    train_data,\n",
    "    batch_size=batch_size,\n",
    "    neg_sampling_ratio=0,\n",
    ")\n",
    "\n",
    "test_loader = TemporalDataLoader(\n",
    "    test_data,\n",
    "    batch_size=batch_size,\n",
    "    neg_sampling_ratio=0,\n",
    ")\n",
    "\n",
    "optimizer = torch.optim.Adam(model.parameters(), lr=0.0001)\n",
    "criterion = torch.nn.BCEWithLogitsLoss()\n",
    "\n",
    "def train():\n",
    "    model.train()\n",
    "    model.reset()\n",
    "\n",
    "    total_loss = 0\n",
    "    for batch in tqdm(train_loader):\n",
    "        optimizer.zero_grad()\n",
    "        batch = batch.to(device)\n",
    "\n",
    "        out = model(batch, data)\n",
    "        loss = criterion(out, batch.y.unsqueeze(-1))\n",
    "\n",
    "        loss.backward()\n",
    "        optimizer.step()\n",
    "        model.memory.detach()\n",
    "        total_loss += float(loss) * batch.num_events\n",
    "\n",
    "    return total_loss / train_data.num_events\n",
    "\n",
    "\n",
    "@torch.no_grad()\n",
    "def test(loader):\n",
    "    model.eval()\n",
    "\n",
    "    torch.manual_seed(12345)\n",
    "\n",
    "    aps, aucs, ps, rs, f1s = [], [], [], [], []\n",
    "    for batch in tqdm(loader):\n",
    "        batch = batch.to(device)\n",
    "        \n",
    "        out = model(batch, data)\n",
    "\n",
    "        y_pred = out.sigmoid().cpu()\n",
    "        y_true = batch.y.unsqueeze(-1).cpu()\n",
    "\n",
    "        aps.append(average_precision_score(y_true, y_pred))\n",
    "        aucs.append(roc_auc_score(y_true, y_pred))\n",
    "        ps.append(precision_score(y_true, y_pred > 0.5))\n",
    "        rs.append(recall_score(y_true, y_pred > 0.5))\n",
    "        f1s.append(f1_score(y_true, y_pred > 0.5))\n",
    "\n",
    "    return (float(torch.tensor(aps).mean()),\n",
    "            float(torch.tensor(aucs).mean()),\n",
    "            float(torch.tensor(ps).mean()),\n",
    "            float(torch.tensor(rs).mean()),\n",
    "            float(torch.tensor(f1s).mean()))"
   ]
  },
  {
   "cell_type": "code",
   "execution_count": 11,
   "id": "0e6fdcc3-5f6f-4a20-a723-a0776711aee1",
   "metadata": {
    "tags": []
   },
   "outputs": [
    {
     "data": {
      "application/vnd.jupyter.widget-view+json": {
       "model_id": "93f233be5ab24b0e9ea15132e5a82b0b",
       "version_major": 2,
       "version_minor": 0
      },
      "text/plain": [
       "  0%|          | 0/2346 [00:00<?, ?it/s]"
      ]
     },
     "metadata": {},
     "output_type": "display_data"
    },
    {
     "name": "stdout",
     "output_type": "stream",
     "text": [
      "Epoch: 001, Loss: 0.6431\n"
     ]
    },
    {
     "data": {
      "application/vnd.jupyter.widget-view+json": {
       "model_id": "7ad7c79c5e454f52acf60fcd149a7d96",
       "version_major": 2,
       "version_minor": 0
      },
      "text/plain": [
       "  0%|          | 0/587 [00:00<?, ?it/s]"
      ]
     },
     "metadata": {},
     "output_type": "display_data"
    },
    {
     "name": "stdout",
     "output_type": "stream",
     "text": [
      "\n",
      "Test AP: 0.7636\n",
      "Test AUC: 0.6168\n",
      "Test Precision 0.6813\n",
      "Test Recall 0.8853\n",
      "Test F1 0.7634\n",
      "    \n"
     ]
    },
    {
     "data": {
      "application/vnd.jupyter.widget-view+json": {
       "model_id": "596faea0b1c74904890b76ebc4852c13",
       "version_major": 2,
       "version_minor": 0
      },
      "text/plain": [
       "  0%|          | 0/2346 [00:00<?, ?it/s]"
      ]
     },
     "metadata": {},
     "output_type": "display_data"
    },
    {
     "name": "stdout",
     "output_type": "stream",
     "text": [
      "Epoch: 002, Loss: 0.5765\n"
     ]
    },
    {
     "data": {
      "application/vnd.jupyter.widget-view+json": {
       "model_id": "15e30d1590a44ae8aec9fd6089c59780",
       "version_major": 2,
       "version_minor": 0
      },
      "text/plain": [
       "  0%|          | 0/587 [00:00<?, ?it/s]"
      ]
     },
     "metadata": {},
     "output_type": "display_data"
    },
    {
     "name": "stdout",
     "output_type": "stream",
     "text": [
      "\n",
      "Test AP: 0.8358\n",
      "Test AUC: 0.7077\n",
      "Test Precision 0.7028\n",
      "Test Recall 0.8807\n",
      "Test F1 0.7759\n",
      "    \n"
     ]
    },
    {
     "data": {
      "application/vnd.jupyter.widget-view+json": {
       "model_id": "76d3d8f56f7b4910910bc9727572909c",
       "version_major": 2,
       "version_minor": 0
      },
      "text/plain": [
       "  0%|          | 0/2346 [00:00<?, ?it/s]"
      ]
     },
     "metadata": {},
     "output_type": "display_data"
    },
    {
     "name": "stdout",
     "output_type": "stream",
     "text": [
      "Epoch: 003, Loss: 0.5312\n"
     ]
    },
    {
     "data": {
      "application/vnd.jupyter.widget-view+json": {
       "model_id": "0cba1fd19a994e89a83a53ed7081ec59",
       "version_major": 2,
       "version_minor": 0
      },
      "text/plain": [
       "  0%|          | 0/587 [00:00<?, ?it/s]"
      ]
     },
     "metadata": {},
     "output_type": "display_data"
    },
    {
     "name": "stdout",
     "output_type": "stream",
     "text": [
      "\n",
      "Test AP: 0.8031\n",
      "Test AUC: 0.6698\n",
      "Test Precision 0.7120\n",
      "Test Recall 0.8230\n",
      "Test F1 0.7576\n",
      "    \n"
     ]
    },
    {
     "data": {
      "application/vnd.jupyter.widget-view+json": {
       "model_id": "768922ba6b784b11989111255a3164a8",
       "version_major": 2,
       "version_minor": 0
      },
      "text/plain": [
       "  0%|          | 0/2346 [00:00<?, ?it/s]"
      ]
     },
     "metadata": {},
     "output_type": "display_data"
    },
    {
     "name": "stdout",
     "output_type": "stream",
     "text": [
      "Epoch: 004, Loss: 0.5213\n"
     ]
    },
    {
     "data": {
      "application/vnd.jupyter.widget-view+json": {
       "model_id": "2a3b4c9fc9aa4f46ad64eddf1f2bff96",
       "version_major": 2,
       "version_minor": 0
      },
      "text/plain": [
       "  0%|          | 0/587 [00:00<?, ?it/s]"
      ]
     },
     "metadata": {},
     "output_type": "display_data"
    },
    {
     "name": "stdout",
     "output_type": "stream",
     "text": [
      "\n",
      "Test AP: 0.8219\n",
      "Test AUC: 0.7020\n",
      "Test Precision 0.6991\n",
      "Test Recall 0.9198\n",
      "Test F1 0.7893\n",
      "    \n"
     ]
    },
    {
     "data": {
      "application/vnd.jupyter.widget-view+json": {
       "model_id": "5a6c9958e83945729789196685866ce0",
       "version_major": 2,
       "version_minor": 0
      },
      "text/plain": [
       "  0%|          | 0/2346 [00:00<?, ?it/s]"
      ]
     },
     "metadata": {},
     "output_type": "display_data"
    },
    {
     "name": "stdout",
     "output_type": "stream",
     "text": [
      "Epoch: 005, Loss: 0.4879\n"
     ]
    },
    {
     "data": {
      "application/vnd.jupyter.widget-view+json": {
       "model_id": "b70699ffb9564dec97594e63daddefe5",
       "version_major": 2,
       "version_minor": 0
      },
      "text/plain": [
       "  0%|          | 0/587 [00:00<?, ?it/s]"
      ]
     },
     "metadata": {},
     "output_type": "display_data"
    },
    {
     "name": "stdout",
     "output_type": "stream",
     "text": [
      "\n",
      "Test AP: 0.8344\n",
      "Test AUC: 0.7297\n",
      "Test Precision 0.7011\n",
      "Test Recall 0.9546\n",
      "Test F1 0.8049\n",
      "    \n"
     ]
    },
    {
     "data": {
      "application/vnd.jupyter.widget-view+json": {
       "model_id": "ae5c8e629147401c9491ec33a5f3b9f0",
       "version_major": 2,
       "version_minor": 0
      },
      "text/plain": [
       "  0%|          | 0/2346 [00:00<?, ?it/s]"
      ]
     },
     "metadata": {},
     "output_type": "display_data"
    },
    {
     "name": "stdout",
     "output_type": "stream",
     "text": [
      "Epoch: 006, Loss: 0.4687\n"
     ]
    },
    {
     "data": {
      "application/vnd.jupyter.widget-view+json": {
       "model_id": "a5e85d5a5fbd418da7243f843891be38",
       "version_major": 2,
       "version_minor": 0
      },
      "text/plain": [
       "  0%|          | 0/587 [00:00<?, ?it/s]"
      ]
     },
     "metadata": {},
     "output_type": "display_data"
    },
    {
     "name": "stdout",
     "output_type": "stream",
     "text": [
      "\n",
      "Test AP: 0.8941\n",
      "Test AUC: 0.8160\n",
      "Test Precision 0.7486\n",
      "Test Recall 0.9386\n",
      "Test F1 0.8296\n",
      "    \n"
     ]
    },
    {
     "data": {
      "application/vnd.jupyter.widget-view+json": {
       "model_id": "2ef991a2af6c43d591e6380469912312",
       "version_major": 2,
       "version_minor": 0
      },
      "text/plain": [
       "  0%|          | 0/2346 [00:00<?, ?it/s]"
      ]
     },
     "metadata": {},
     "output_type": "display_data"
    },
    {
     "name": "stdout",
     "output_type": "stream",
     "text": [
      "Epoch: 007, Loss: 0.4349\n"
     ]
    },
    {
     "data": {
      "application/vnd.jupyter.widget-view+json": {
       "model_id": "f98f177a1f324243b826122b433fef3e",
       "version_major": 2,
       "version_minor": 0
      },
      "text/plain": [
       "  0%|          | 0/587 [00:00<?, ?it/s]"
      ]
     },
     "metadata": {},
     "output_type": "display_data"
    },
    {
     "name": "stdout",
     "output_type": "stream",
     "text": [
      "\n",
      "Test AP: 0.8920\n",
      "Test AUC: 0.8137\n",
      "Test Precision 0.7219\n",
      "Test Recall 0.9543\n",
      "Test F1 0.8182\n",
      "    \n"
     ]
    },
    {
     "data": {
      "application/vnd.jupyter.widget-view+json": {
       "model_id": "5eb8b2aafaba4c8eb95ca0b10f11ea73",
       "version_major": 2,
       "version_minor": 0
      },
      "text/plain": [
       "  0%|          | 0/2346 [00:00<?, ?it/s]"
      ]
     },
     "metadata": {},
     "output_type": "display_data"
    },
    {
     "name": "stdout",
     "output_type": "stream",
     "text": [
      "Epoch: 008, Loss: 0.4281\n"
     ]
    },
    {
     "data": {
      "application/vnd.jupyter.widget-view+json": {
       "model_id": "dc716e57b5d74ff98759c7c1ab8a75e7",
       "version_major": 2,
       "version_minor": 0
      },
      "text/plain": [
       "  0%|          | 0/587 [00:00<?, ?it/s]"
      ]
     },
     "metadata": {},
     "output_type": "display_data"
    },
    {
     "name": "stdout",
     "output_type": "stream",
     "text": [
      "\n",
      "Test AP: 0.9101\n",
      "Test AUC: 0.8393\n",
      "Test Precision 0.7587\n",
      "Test Recall 0.9411\n",
      "Test F1 0.8363\n",
      "    \n"
     ]
    },
    {
     "data": {
      "application/vnd.jupyter.widget-view+json": {
       "model_id": "35246cbb46924b50a029579684f595a6",
       "version_major": 2,
       "version_minor": 0
      },
      "text/plain": [
       "  0%|          | 0/2346 [00:00<?, ?it/s]"
      ]
     },
     "metadata": {},
     "output_type": "display_data"
    },
    {
     "name": "stdout",
     "output_type": "stream",
     "text": [
      "Epoch: 009, Loss: 0.4106\n"
     ]
    },
    {
     "data": {
      "application/vnd.jupyter.widget-view+json": {
       "model_id": "a7e5d4c7842e491aa54617cd9f8455e6",
       "version_major": 2,
       "version_minor": 0
      },
      "text/plain": [
       "  0%|          | 0/587 [00:00<?, ?it/s]"
      ]
     },
     "metadata": {},
     "output_type": "display_data"
    },
    {
     "name": "stdout",
     "output_type": "stream",
     "text": [
      "\n",
      "Test AP: 0.9189\n",
      "Test AUC: 0.8504\n",
      "Test Precision 0.7776\n",
      "Test Recall 0.9255\n",
      "Test F1 0.8408\n",
      "    \n"
     ]
    },
    {
     "data": {
      "application/vnd.jupyter.widget-view+json": {
       "model_id": "48f21a67fcbb40169e9898607feadd6d",
       "version_major": 2,
       "version_minor": 0
      },
      "text/plain": [
       "  0%|          | 0/2346 [00:00<?, ?it/s]"
      ]
     },
     "metadata": {},
     "output_type": "display_data"
    },
    {
     "name": "stdout",
     "output_type": "stream",
     "text": [
      "Epoch: 010, Loss: 0.4190\n"
     ]
    },
    {
     "data": {
      "application/vnd.jupyter.widget-view+json": {
       "model_id": "de4a59696fd34f15b92a4dc52c83ff71",
       "version_major": 2,
       "version_minor": 0
      },
      "text/plain": [
       "  0%|          | 0/587 [00:00<?, ?it/s]"
      ]
     },
     "metadata": {},
     "output_type": "display_data"
    },
    {
     "name": "stdout",
     "output_type": "stream",
     "text": [
      "\n",
      "Test AP: 0.9158\n",
      "Test AUC: 0.8475\n",
      "Test Precision 0.8040\n",
      "Test Recall 0.8997\n",
      "Test F1 0.8437\n",
      "    \n"
     ]
    },
    {
     "data": {
      "application/vnd.jupyter.widget-view+json": {
       "model_id": "3f3618517fb442e7a4fa609561d1b7d0",
       "version_major": 2,
       "version_minor": 0
      },
      "text/plain": [
       "  0%|          | 0/2346 [00:00<?, ?it/s]"
      ]
     },
     "metadata": {},
     "output_type": "display_data"
    },
    {
     "name": "stdout",
     "output_type": "stream",
     "text": [
      "Epoch: 011, Loss: 0.4198\n"
     ]
    },
    {
     "data": {
      "application/vnd.jupyter.widget-view+json": {
       "model_id": "0e950bde29234c018744edd546fe34cf",
       "version_major": 2,
       "version_minor": 0
      },
      "text/plain": [
       "  0%|          | 0/587 [00:00<?, ?it/s]"
      ]
     },
     "metadata": {},
     "output_type": "display_data"
    },
    {
     "name": "stdout",
     "output_type": "stream",
     "text": [
      "\n",
      "Test AP: 0.9281\n",
      "Test AUC: 0.8658\n",
      "Test Precision 0.8206\n",
      "Test Recall 0.8983\n",
      "Test F1 0.8524\n",
      "    \n"
     ]
    },
    {
     "data": {
      "application/vnd.jupyter.widget-view+json": {
       "model_id": "0012a3f24ba04e4cabccc64c65913c02",
       "version_major": 2,
       "version_minor": 0
      },
      "text/plain": [
       "  0%|          | 0/2346 [00:00<?, ?it/s]"
      ]
     },
     "metadata": {},
     "output_type": "display_data"
    },
    {
     "name": "stdout",
     "output_type": "stream",
     "text": [
      "Epoch: 012, Loss: 0.4105\n"
     ]
    },
    {
     "data": {
      "application/vnd.jupyter.widget-view+json": {
       "model_id": "4685841ee1f6443cbe19b51584c2274f",
       "version_major": 2,
       "version_minor": 0
      },
      "text/plain": [
       "  0%|          | 0/587 [00:00<?, ?it/s]"
      ]
     },
     "metadata": {},
     "output_type": "display_data"
    },
    {
     "name": "stdout",
     "output_type": "stream",
     "text": [
      "\n",
      "Test AP: 0.9203\n",
      "Test AUC: 0.8533\n",
      "Test Precision 0.8432\n",
      "Test Recall 0.8728\n",
      "Test F1 0.8525\n",
      "    \n"
     ]
    },
    {
     "data": {
      "application/vnd.jupyter.widget-view+json": {
       "model_id": "b66cc9250acd40cb8e3c1b200ab138b7",
       "version_major": 2,
       "version_minor": 0
      },
      "text/plain": [
       "  0%|          | 0/2346 [00:00<?, ?it/s]"
      ]
     },
     "metadata": {},
     "output_type": "display_data"
    },
    {
     "name": "stdout",
     "output_type": "stream",
     "text": [
      "Epoch: 013, Loss: 0.4098\n"
     ]
    },
    {
     "data": {
      "application/vnd.jupyter.widget-view+json": {
       "model_id": "a866f6e923c346999c385aa146a2c8b3",
       "version_major": 2,
       "version_minor": 0
      },
      "text/plain": [
       "  0%|          | 0/587 [00:00<?, ?it/s]"
      ]
     },
     "metadata": {},
     "output_type": "display_data"
    },
    {
     "name": "stdout",
     "output_type": "stream",
     "text": [
      "\n",
      "Test AP: 0.9209\n",
      "Test AUC: 0.8540\n",
      "Test Precision 0.8565\n",
      "Test Recall 0.8652\n",
      "Test F1 0.8555\n",
      "    \n"
     ]
    },
    {
     "data": {
      "application/vnd.jupyter.widget-view+json": {
       "model_id": "5885110d1c1449b386239dcc2e354033",
       "version_major": 2,
       "version_minor": 0
      },
      "text/plain": [
       "  0%|          | 0/2346 [00:00<?, ?it/s]"
      ]
     },
     "metadata": {},
     "output_type": "display_data"
    },
    {
     "name": "stdout",
     "output_type": "stream",
     "text": [
      "Epoch: 014, Loss: 0.4123\n"
     ]
    },
    {
     "data": {
      "application/vnd.jupyter.widget-view+json": {
       "model_id": "9c5adbfa257d4aa38002960a9fa145d0",
       "version_major": 2,
       "version_minor": 0
      },
      "text/plain": [
       "  0%|          | 0/587 [00:00<?, ?it/s]"
      ]
     },
     "metadata": {},
     "output_type": "display_data"
    },
    {
     "name": "stdout",
     "output_type": "stream",
     "text": [
      "\n",
      "Test AP: 0.9219\n",
      "Test AUC: 0.8569\n",
      "Test Precision 0.8606\n",
      "Test Recall 0.8631\n",
      "Test F1 0.8565\n",
      "    \n"
     ]
    },
    {
     "data": {
      "application/vnd.jupyter.widget-view+json": {
       "model_id": "2921f666ab254070a7ecbff8bfcca583",
       "version_major": 2,
       "version_minor": 0
      },
      "text/plain": [
       "  0%|          | 0/2346 [00:00<?, ?it/s]"
      ]
     },
     "metadata": {},
     "output_type": "display_data"
    },
    {
     "name": "stdout",
     "output_type": "stream",
     "text": [
      "Epoch: 015, Loss: 0.4090\n"
     ]
    },
    {
     "data": {
      "application/vnd.jupyter.widget-view+json": {
       "model_id": "88959ab8c7c94fc0b3eacc9c875ff459",
       "version_major": 2,
       "version_minor": 0
      },
      "text/plain": [
       "  0%|          | 0/587 [00:00<?, ?it/s]"
      ]
     },
     "metadata": {},
     "output_type": "display_data"
    },
    {
     "name": "stdout",
     "output_type": "stream",
     "text": [
      "\n",
      "Test AP: 0.9298\n",
      "Test AUC: 0.8691\n",
      "Test Precision 0.8604\n",
      "Test Recall 0.8727\n",
      "Test F1 0.8614\n",
      "    \n"
     ]
    },
    {
     "data": {
      "application/vnd.jupyter.widget-view+json": {
       "model_id": "4c317bd49435476ea0ae6a3dbeb42987",
       "version_major": 2,
       "version_minor": 0
      },
      "text/plain": [
       "  0%|          | 0/2346 [00:00<?, ?it/s]"
      ]
     },
     "metadata": {},
     "output_type": "display_data"
    },
    {
     "name": "stdout",
     "output_type": "stream",
     "text": [
      "Epoch: 016, Loss: 0.3941\n"
     ]
    },
    {
     "data": {
      "application/vnd.jupyter.widget-view+json": {
       "model_id": "4f67268268764e509a060249dbada48f",
       "version_major": 2,
       "version_minor": 0
      },
      "text/plain": [
       "  0%|          | 0/587 [00:00<?, ?it/s]"
      ]
     },
     "metadata": {},
     "output_type": "display_data"
    },
    {
     "name": "stdout",
     "output_type": "stream",
     "text": [
      "\n",
      "Test AP: 0.9297\n",
      "Test AUC: 0.8690\n",
      "Test Precision 0.8634\n",
      "Test Recall 0.8658\n",
      "Test F1 0.8595\n",
      "    \n"
     ]
    },
    {
     "data": {
      "application/vnd.jupyter.widget-view+json": {
       "model_id": "b9f44d2cf20b422d843c64c1566cd31f",
       "version_major": 2,
       "version_minor": 0
      },
      "text/plain": [
       "  0%|          | 0/2346 [00:00<?, ?it/s]"
      ]
     },
     "metadata": {},
     "output_type": "display_data"
    },
    {
     "name": "stdout",
     "output_type": "stream",
     "text": [
      "Epoch: 017, Loss: 0.3985\n"
     ]
    },
    {
     "data": {
      "application/vnd.jupyter.widget-view+json": {
       "model_id": "c4043b02d80147a7b263c16a85e28ae7",
       "version_major": 2,
       "version_minor": 0
      },
      "text/plain": [
       "  0%|          | 0/587 [00:00<?, ?it/s]"
      ]
     },
     "metadata": {},
     "output_type": "display_data"
    },
    {
     "name": "stdout",
     "output_type": "stream",
     "text": [
      "\n",
      "Test AP: 0.9304\n",
      "Test AUC: 0.8663\n",
      "Test Precision 0.8639\n",
      "Test Recall 0.8672\n",
      "Test F1 0.8607\n",
      "    \n"
     ]
    },
    {
     "data": {
      "application/vnd.jupyter.widget-view+json": {
       "model_id": "0b07621662004db581b938be1461d153",
       "version_major": 2,
       "version_minor": 0
      },
      "text/plain": [
       "  0%|          | 0/2346 [00:00<?, ?it/s]"
      ]
     },
     "metadata": {},
     "output_type": "display_data"
    },
    {
     "name": "stdout",
     "output_type": "stream",
     "text": [
      "Epoch: 018, Loss: 0.3941\n"
     ]
    },
    {
     "data": {
      "application/vnd.jupyter.widget-view+json": {
       "model_id": "3111906f15df4056845c4520eaa1a667",
       "version_major": 2,
       "version_minor": 0
      },
      "text/plain": [
       "  0%|          | 0/587 [00:00<?, ?it/s]"
      ]
     },
     "metadata": {},
     "output_type": "display_data"
    },
    {
     "name": "stdout",
     "output_type": "stream",
     "text": [
      "\n",
      "Test AP: 0.9296\n",
      "Test AUC: 0.8679\n",
      "Test Precision 0.8615\n",
      "Test Recall 0.8725\n",
      "Test F1 0.8619\n",
      "    \n"
     ]
    },
    {
     "data": {
      "application/vnd.jupyter.widget-view+json": {
       "model_id": "e7f6439804a64545844ec642fa221bc7",
       "version_major": 2,
       "version_minor": 0
      },
      "text/plain": [
       "  0%|          | 0/2346 [00:00<?, ?it/s]"
      ]
     },
     "metadata": {},
     "output_type": "display_data"
    },
    {
     "name": "stdout",
     "output_type": "stream",
     "text": [
      "Epoch: 019, Loss: 0.3968\n"
     ]
    },
    {
     "data": {
      "application/vnd.jupyter.widget-view+json": {
       "model_id": "845e130ca7d64593b0f9ad3871f7f249",
       "version_major": 2,
       "version_minor": 0
      },
      "text/plain": [
       "  0%|          | 0/587 [00:00<?, ?it/s]"
      ]
     },
     "metadata": {},
     "output_type": "display_data"
    },
    {
     "name": "stdout",
     "output_type": "stream",
     "text": [
      "\n",
      "Test AP: 0.9233\n",
      "Test AUC: 0.8573\n",
      "Test Precision 0.8349\n",
      "Test Recall 0.8824\n",
      "Test F1 0.8526\n",
      "    \n"
     ]
    },
    {
     "data": {
      "application/vnd.jupyter.widget-view+json": {
       "model_id": "548fb550414448afb9ee262ded81cb16",
       "version_major": 2,
       "version_minor": 0
      },
      "text/plain": [
       "  0%|          | 0/2346 [00:00<?, ?it/s]"
      ]
     },
     "metadata": {},
     "output_type": "display_data"
    },
    {
     "name": "stdout",
     "output_type": "stream",
     "text": [
      "Epoch: 020, Loss: 0.3981\n"
     ]
    },
    {
     "data": {
      "application/vnd.jupyter.widget-view+json": {
       "model_id": "4b83f51a7be74805ab9d1a6f5b50aac3",
       "version_major": 2,
       "version_minor": 0
      },
      "text/plain": [
       "  0%|          | 0/587 [00:00<?, ?it/s]"
      ]
     },
     "metadata": {},
     "output_type": "display_data"
    },
    {
     "name": "stdout",
     "output_type": "stream",
     "text": [
      "\n",
      "Test AP: 0.9328\n",
      "Test AUC: 0.8718\n",
      "Test Precision 0.8548\n",
      "Test Recall 0.8809\n",
      "Test F1 0.8628\n",
      "    \n"
     ]
    },
    {
     "data": {
      "application/vnd.jupyter.widget-view+json": {
       "model_id": "66e37932215a4d6a99e12707c2787fe5",
       "version_major": 2,
       "version_minor": 0
      },
      "text/plain": [
       "  0%|          | 0/2346 [00:00<?, ?it/s]"
      ]
     },
     "metadata": {},
     "output_type": "display_data"
    },
    {
     "name": "stdout",
     "output_type": "stream",
     "text": [
      "Epoch: 021, Loss: 0.3838\n"
     ]
    },
    {
     "data": {
      "application/vnd.jupyter.widget-view+json": {
       "model_id": "16901291540d49889d7cec07355b0cd1",
       "version_major": 2,
       "version_minor": 0
      },
      "text/plain": [
       "  0%|          | 0/587 [00:00<?, ?it/s]"
      ]
     },
     "metadata": {},
     "output_type": "display_data"
    },
    {
     "name": "stdout",
     "output_type": "stream",
     "text": [
      "\n",
      "Test AP: 0.9326\n",
      "Test AUC: 0.8714\n",
      "Test Precision 0.8666\n",
      "Test Recall 0.8717\n",
      "Test F1 0.8647\n",
      "    \n"
     ]
    },
    {
     "data": {
      "application/vnd.jupyter.widget-view+json": {
       "model_id": "14c01f7ef7e247b58cc05b5dc8d19d25",
       "version_major": 2,
       "version_minor": 0
      },
      "text/plain": [
       "  0%|          | 0/2346 [00:00<?, ?it/s]"
      ]
     },
     "metadata": {},
     "output_type": "display_data"
    },
    {
     "name": "stdout",
     "output_type": "stream",
     "text": [
      "Epoch: 022, Loss: 0.3770\n"
     ]
    },
    {
     "data": {
      "application/vnd.jupyter.widget-view+json": {
       "model_id": "710ea7d5d4f344a797fcd22ce78d17ec",
       "version_major": 2,
       "version_minor": 0
      },
      "text/plain": [
       "  0%|          | 0/587 [00:00<?, ?it/s]"
      ]
     },
     "metadata": {},
     "output_type": "display_data"
    },
    {
     "name": "stdout",
     "output_type": "stream",
     "text": [
      "\n",
      "Test AP: 0.9362\n",
      "Test AUC: 0.8766\n",
      "Test Precision 0.8384\n",
      "Test Recall 0.8919\n",
      "Test F1 0.8600\n",
      "    \n"
     ]
    },
    {
     "data": {
      "application/vnd.jupyter.widget-view+json": {
       "model_id": "39cb7f9d32324570b058a1f884abce70",
       "version_major": 2,
       "version_minor": 0
      },
      "text/plain": [
       "  0%|          | 0/2346 [00:00<?, ?it/s]"
      ]
     },
     "metadata": {},
     "output_type": "display_data"
    },
    {
     "name": "stdout",
     "output_type": "stream",
     "text": [
      "Epoch: 023, Loss: 0.3809\n"
     ]
    },
    {
     "data": {
      "application/vnd.jupyter.widget-view+json": {
       "model_id": "0df40903cfb74c18b9147a1fc2d324c0",
       "version_major": 2,
       "version_minor": 0
      },
      "text/plain": [
       "  0%|          | 0/587 [00:00<?, ?it/s]"
      ]
     },
     "metadata": {},
     "output_type": "display_data"
    },
    {
     "name": "stdout",
     "output_type": "stream",
     "text": [
      "\n",
      "Test AP: 0.9375\n",
      "Test AUC: 0.8799\n",
      "Test Precision 0.8711\n",
      "Test Recall 0.8697\n",
      "Test F1 0.8664\n",
      "    \n"
     ]
    },
    {
     "data": {
      "application/vnd.jupyter.widget-view+json": {
       "model_id": "b0ed5bdecc554b4ba2d709c77b79172a",
       "version_major": 2,
       "version_minor": 0
      },
      "text/plain": [
       "  0%|          | 0/2346 [00:00<?, ?it/s]"
      ]
     },
     "metadata": {},
     "output_type": "display_data"
    },
    {
     "name": "stdout",
     "output_type": "stream",
     "text": [
      "Epoch: 024, Loss: 0.3761\n"
     ]
    },
    {
     "data": {
      "application/vnd.jupyter.widget-view+json": {
       "model_id": "e619287f985d4d0b976b6646ccb5a385",
       "version_major": 2,
       "version_minor": 0
      },
      "text/plain": [
       "  0%|          | 0/587 [00:00<?, ?it/s]"
      ]
     },
     "metadata": {},
     "output_type": "display_data"
    },
    {
     "name": "stdout",
     "output_type": "stream",
     "text": [
      "\n",
      "Test AP: 0.9350\n",
      "Test AUC: 0.8746\n",
      "Test Precision 0.8637\n",
      "Test Recall 0.8727\n",
      "Test F1 0.8643\n",
      "    \n"
     ]
    },
    {
     "data": {
      "application/vnd.jupyter.widget-view+json": {
       "model_id": "83a94529c5224c8786cf560e99aaff1d",
       "version_major": 2,
       "version_minor": 0
      },
      "text/plain": [
       "  0%|          | 0/2346 [00:00<?, ?it/s]"
      ]
     },
     "metadata": {},
     "output_type": "display_data"
    },
    {
     "name": "stdout",
     "output_type": "stream",
     "text": [
      "Epoch: 025, Loss: 0.3780\n"
     ]
    },
    {
     "data": {
      "application/vnd.jupyter.widget-view+json": {
       "model_id": "2a479b147e2c4ad6b8d3fc95eda756ad",
       "version_major": 2,
       "version_minor": 0
      },
      "text/plain": [
       "  0%|          | 0/587 [00:00<?, ?it/s]"
      ]
     },
     "metadata": {},
     "output_type": "display_data"
    },
    {
     "name": "stdout",
     "output_type": "stream",
     "text": [
      "\n",
      "Test AP: 0.9261\n",
      "Test AUC: 0.8593\n",
      "Test Precision 0.8376\n",
      "Test Recall 0.8814\n",
      "Test F1 0.8546\n",
      "    \n"
     ]
    },
    {
     "data": {
      "application/vnd.jupyter.widget-view+json": {
       "model_id": "4a435c6d321c4020861d7a848af40b29",
       "version_major": 2,
       "version_minor": 0
      },
      "text/plain": [
       "  0%|          | 0/2346 [00:00<?, ?it/s]"
      ]
     },
     "metadata": {},
     "output_type": "display_data"
    },
    {
     "name": "stdout",
     "output_type": "stream",
     "text": [
      "Epoch: 026, Loss: 0.3800\n"
     ]
    },
    {
     "data": {
      "application/vnd.jupyter.widget-view+json": {
       "model_id": "4f3c669986a74a1a84416b533e3aacdb",
       "version_major": 2,
       "version_minor": 0
      },
      "text/plain": [
       "  0%|          | 0/587 [00:00<?, ?it/s]"
      ]
     },
     "metadata": {},
     "output_type": "display_data"
    },
    {
     "name": "stdout",
     "output_type": "stream",
     "text": [
      "\n",
      "Test AP: 0.9375\n",
      "Test AUC: 0.8781\n",
      "Test Precision 0.8599\n",
      "Test Recall 0.8819\n",
      "Test F1 0.8670\n",
      "    \n"
     ]
    },
    {
     "data": {
      "application/vnd.jupyter.widget-view+json": {
       "model_id": "c85c4bf25de845139fd8b0c9d08d57f9",
       "version_major": 2,
       "version_minor": 0
      },
      "text/plain": [
       "  0%|          | 0/2346 [00:00<?, ?it/s]"
      ]
     },
     "metadata": {},
     "output_type": "display_data"
    },
    {
     "name": "stdout",
     "output_type": "stream",
     "text": [
      "Epoch: 027, Loss: 0.3693\n"
     ]
    },
    {
     "data": {
      "application/vnd.jupyter.widget-view+json": {
       "model_id": "013f34eeeffb40748f136dc316fe4b26",
       "version_major": 2,
       "version_minor": 0
      },
      "text/plain": [
       "  0%|          | 0/587 [00:00<?, ?it/s]"
      ]
     },
     "metadata": {},
     "output_type": "display_data"
    },
    {
     "name": "stdout",
     "output_type": "stream",
     "text": [
      "\n",
      "Test AP: 0.9375\n",
      "Test AUC: 0.8780\n",
      "Test Precision 0.8540\n",
      "Test Recall 0.8769\n",
      "Test F1 0.8612\n",
      "    \n"
     ]
    },
    {
     "data": {
      "application/vnd.jupyter.widget-view+json": {
       "model_id": "3f9e3e871db742fab86553de31c20926",
       "version_major": 2,
       "version_minor": 0
      },
      "text/plain": [
       "  0%|          | 0/2346 [00:00<?, ?it/s]"
      ]
     },
     "metadata": {},
     "output_type": "display_data"
    },
    {
     "name": "stdout",
     "output_type": "stream",
     "text": [
      "Epoch: 028, Loss: 0.3804\n"
     ]
    },
    {
     "data": {
      "application/vnd.jupyter.widget-view+json": {
       "model_id": "42b16300941741319a6d3899760a8b7e",
       "version_major": 2,
       "version_minor": 0
      },
      "text/plain": [
       "  0%|          | 0/587 [00:00<?, ?it/s]"
      ]
     },
     "metadata": {},
     "output_type": "display_data"
    },
    {
     "name": "stdout",
     "output_type": "stream",
     "text": [
      "\n",
      "Test AP: 0.9277\n",
      "Test AUC: 0.8610\n",
      "Test Precision 0.8590\n",
      "Test Recall 0.8613\n",
      "Test F1 0.8556\n",
      "    \n"
     ]
    },
    {
     "data": {
      "application/vnd.jupyter.widget-view+json": {
       "model_id": "27b83d7f47664015b0997243beb5f54e",
       "version_major": 2,
       "version_minor": 0
      },
      "text/plain": [
       "  0%|          | 0/2346 [00:00<?, ?it/s]"
      ]
     },
     "metadata": {},
     "output_type": "display_data"
    },
    {
     "name": "stdout",
     "output_type": "stream",
     "text": [
      "Epoch: 029, Loss: 0.3736\n"
     ]
    },
    {
     "data": {
      "application/vnd.jupyter.widget-view+json": {
       "model_id": "f59d280af1a94d229fe368703bd4dd3b",
       "version_major": 2,
       "version_minor": 0
      },
      "text/plain": [
       "  0%|          | 0/587 [00:00<?, ?it/s]"
      ]
     },
     "metadata": {},
     "output_type": "display_data"
    },
    {
     "name": "stdout",
     "output_type": "stream",
     "text": [
      "\n",
      "Test AP: 0.9340\n",
      "Test AUC: 0.8731\n",
      "Test Precision 0.8719\n",
      "Test Recall 0.8599\n",
      "Test F1 0.8611\n",
      "    \n"
     ]
    },
    {
     "data": {
      "application/vnd.jupyter.widget-view+json": {
       "model_id": "06544ce6dde044618681c6826a5c2f83",
       "version_major": 2,
       "version_minor": 0
      },
      "text/plain": [
       "  0%|          | 0/2346 [00:00<?, ?it/s]"
      ]
     },
     "metadata": {},
     "output_type": "display_data"
    },
    {
     "name": "stdout",
     "output_type": "stream",
     "text": [
      "Epoch: 030, Loss: 0.3659\n"
     ]
    },
    {
     "data": {
      "application/vnd.jupyter.widget-view+json": {
       "model_id": "05f1d311d60d4f85aa091f7168bb5839",
       "version_major": 2,
       "version_minor": 0
      },
      "text/plain": [
       "  0%|          | 0/587 [00:00<?, ?it/s]"
      ]
     },
     "metadata": {},
     "output_type": "display_data"
    },
    {
     "name": "stdout",
     "output_type": "stream",
     "text": [
      "\n",
      "Test AP: 0.9274\n",
      "Test AUC: 0.8610\n",
      "Test Precision 0.8766\n",
      "Test Recall 0.8387\n",
      "Test F1 0.8525\n",
      "    \n"
     ]
    },
    {
     "data": {
      "application/vnd.jupyter.widget-view+json": {
       "model_id": "b7f15e69a38c481cb8e14f1efb4e2626",
       "version_major": 2,
       "version_minor": 0
      },
      "text/plain": [
       "  0%|          | 0/2346 [00:00<?, ?it/s]"
      ]
     },
     "metadata": {},
     "output_type": "display_data"
    },
    {
     "name": "stdout",
     "output_type": "stream",
     "text": [
      "Epoch: 031, Loss: 0.3753\n"
     ]
    },
    {
     "data": {
      "application/vnd.jupyter.widget-view+json": {
       "model_id": "6e0882ccc53d4917ad236191042e8ef2",
       "version_major": 2,
       "version_minor": 0
      },
      "text/plain": [
       "  0%|          | 0/587 [00:00<?, ?it/s]"
      ]
     },
     "metadata": {},
     "output_type": "display_data"
    },
    {
     "name": "stdout",
     "output_type": "stream",
     "text": [
      "\n",
      "Test AP: 0.9293\n",
      "Test AUC: 0.8637\n",
      "Test Precision 0.8655\n",
      "Test Recall 0.8559\n",
      "Test F1 0.8561\n",
      "    \n"
     ]
    },
    {
     "data": {
      "application/vnd.jupyter.widget-view+json": {
       "model_id": "9e6326a3f98c4d8bac0f5640bd40f575",
       "version_major": 2,
       "version_minor": 0
      },
      "text/plain": [
       "  0%|          | 0/2346 [00:00<?, ?it/s]"
      ]
     },
     "metadata": {},
     "output_type": "display_data"
    },
    {
     "name": "stdout",
     "output_type": "stream",
     "text": [
      "Epoch: 032, Loss: 0.3684\n"
     ]
    },
    {
     "data": {
      "application/vnd.jupyter.widget-view+json": {
       "model_id": "59e9a685b6ae4ba1af3f11a37ae794ee",
       "version_major": 2,
       "version_minor": 0
      },
      "text/plain": [
       "  0%|          | 0/587 [00:00<?, ?it/s]"
      ]
     },
     "metadata": {},
     "output_type": "display_data"
    },
    {
     "name": "stdout",
     "output_type": "stream",
     "text": [
      "\n",
      "Test AP: 0.9421\n",
      "Test AUC: 0.8872\n",
      "Test Precision 0.8602\n",
      "Test Recall 0.8835\n",
      "Test F1 0.8674\n",
      "    \n"
     ]
    },
    {
     "data": {
      "application/vnd.jupyter.widget-view+json": {
       "model_id": "0df5182240964816ba97cc9fce9d9637",
       "version_major": 2,
       "version_minor": 0
      },
      "text/plain": [
       "  0%|          | 0/2346 [00:00<?, ?it/s]"
      ]
     },
     "metadata": {},
     "output_type": "display_data"
    },
    {
     "name": "stdout",
     "output_type": "stream",
     "text": [
      "Epoch: 033, Loss: 0.3605\n"
     ]
    },
    {
     "data": {
      "application/vnd.jupyter.widget-view+json": {
       "model_id": "9361fa67fbec4c0fb5e38bf9530e5a25",
       "version_major": 2,
       "version_minor": 0
      },
      "text/plain": [
       "  0%|          | 0/587 [00:00<?, ?it/s]"
      ]
     },
     "metadata": {},
     "output_type": "display_data"
    },
    {
     "name": "stdout",
     "output_type": "stream",
     "text": [
      "\n",
      "Test AP: 0.9275\n",
      "Test AUC: 0.8615\n",
      "Test Precision 0.8804\n",
      "Test Recall 0.8391\n",
      "Test F1 0.8546\n",
      "    \n"
     ]
    },
    {
     "data": {
      "application/vnd.jupyter.widget-view+json": {
       "model_id": "56d0d8f71a6b45239af3dc67fb9fc517",
       "version_major": 2,
       "version_minor": 0
      },
      "text/plain": [
       "  0%|          | 0/2346 [00:00<?, ?it/s]"
      ]
     },
     "metadata": {},
     "output_type": "display_data"
    },
    {
     "name": "stdout",
     "output_type": "stream",
     "text": [
      "Epoch: 034, Loss: 0.3670\n"
     ]
    },
    {
     "data": {
      "application/vnd.jupyter.widget-view+json": {
       "model_id": "f83a6022c4e54b3c9ffced5049bd0158",
       "version_major": 2,
       "version_minor": 0
      },
      "text/plain": [
       "  0%|          | 0/587 [00:00<?, ?it/s]"
      ]
     },
     "metadata": {},
     "output_type": "display_data"
    },
    {
     "name": "stdout",
     "output_type": "stream",
     "text": [
      "\n",
      "Test AP: 0.9354\n",
      "Test AUC: 0.8743\n",
      "Test Precision 0.8640\n",
      "Test Recall 0.8610\n",
      "Test F1 0.8581\n",
      "    \n"
     ]
    },
    {
     "data": {
      "application/vnd.jupyter.widget-view+json": {
       "model_id": "17a3d1b676844f179e02c56333312548",
       "version_major": 2,
       "version_minor": 0
      },
      "text/plain": [
       "  0%|          | 0/2346 [00:00<?, ?it/s]"
      ]
     },
     "metadata": {},
     "output_type": "display_data"
    },
    {
     "name": "stdout",
     "output_type": "stream",
     "text": [
      "Epoch: 035, Loss: 0.3587\n"
     ]
    },
    {
     "data": {
      "application/vnd.jupyter.widget-view+json": {
       "model_id": "e07a43d7114f4c57baf3fd9250f434a7",
       "version_major": 2,
       "version_minor": 0
      },
      "text/plain": [
       "  0%|          | 0/587 [00:00<?, ?it/s]"
      ]
     },
     "metadata": {},
     "output_type": "display_data"
    },
    {
     "name": "stdout",
     "output_type": "stream",
     "text": [
      "\n",
      "Test AP: 0.9325\n",
      "Test AUC: 0.8695\n",
      "Test Precision 0.8798\n",
      "Test Recall 0.8519\n",
      "Test F1 0.8608\n",
      "    \n"
     ]
    },
    {
     "data": {
      "application/vnd.jupyter.widget-view+json": {
       "model_id": "1d6513af02f744f39243fbf75b12b265",
       "version_major": 2,
       "version_minor": 0
      },
      "text/plain": [
       "  0%|          | 0/2346 [00:00<?, ?it/s]"
      ]
     },
     "metadata": {},
     "output_type": "display_data"
    },
    {
     "name": "stdout",
     "output_type": "stream",
     "text": [
      "Epoch: 036, Loss: 0.3606\n"
     ]
    },
    {
     "data": {
      "application/vnd.jupyter.widget-view+json": {
       "model_id": "ec79f49ed3f643ed964fc11f760c25c5",
       "version_major": 2,
       "version_minor": 0
      },
      "text/plain": [
       "  0%|          | 0/587 [00:00<?, ?it/s]"
      ]
     },
     "metadata": {},
     "output_type": "display_data"
    },
    {
     "name": "stdout",
     "output_type": "stream",
     "text": [
      "\n",
      "Test AP: 0.9401\n",
      "Test AUC: 0.8806\n",
      "Test Precision 0.8491\n",
      "Test Recall 0.8833\n",
      "Test F1 0.8620\n",
      "    \n"
     ]
    },
    {
     "data": {
      "application/vnd.jupyter.widget-view+json": {
       "model_id": "6983f11087834f61a9eb015fafd4c826",
       "version_major": 2,
       "version_minor": 0
      },
      "text/plain": [
       "  0%|          | 0/2346 [00:00<?, ?it/s]"
      ]
     },
     "metadata": {},
     "output_type": "display_data"
    },
    {
     "name": "stdout",
     "output_type": "stream",
     "text": [
      "Epoch: 037, Loss: 0.3567\n"
     ]
    },
    {
     "data": {
      "application/vnd.jupyter.widget-view+json": {
       "model_id": "8acb0fc20110482382ba7f76e80413b0",
       "version_major": 2,
       "version_minor": 0
      },
      "text/plain": [
       "  0%|          | 0/587 [00:00<?, ?it/s]"
      ]
     },
     "metadata": {},
     "output_type": "display_data"
    },
    {
     "name": "stdout",
     "output_type": "stream",
     "text": [
      "\n",
      "Test AP: 0.9367\n",
      "Test AUC: 0.8736\n",
      "Test Precision 0.8820\n",
      "Test Recall 0.8443\n",
      "Test F1 0.8585\n",
      "    \n"
     ]
    },
    {
     "data": {
      "application/vnd.jupyter.widget-view+json": {
       "model_id": "0df5b05b2bc34639a6a06c877c21fcab",
       "version_major": 2,
       "version_minor": 0
      },
      "text/plain": [
       "  0%|          | 0/2346 [00:00<?, ?it/s]"
      ]
     },
     "metadata": {},
     "output_type": "display_data"
    },
    {
     "name": "stdout",
     "output_type": "stream",
     "text": [
      "Epoch: 038, Loss: 0.3502\n"
     ]
    },
    {
     "data": {
      "application/vnd.jupyter.widget-view+json": {
       "model_id": "42bd72580b6f4b3fb485014db73781ab",
       "version_major": 2,
       "version_minor": 0
      },
      "text/plain": [
       "  0%|          | 0/587 [00:00<?, ?it/s]"
      ]
     },
     "metadata": {},
     "output_type": "display_data"
    },
    {
     "name": "stdout",
     "output_type": "stream",
     "text": [
      "\n",
      "Test AP: 0.9382\n",
      "Test AUC: 0.8764\n",
      "Test Precision 0.8834\n",
      "Test Recall 0.8472\n",
      "Test F1 0.8609\n",
      "    \n"
     ]
    },
    {
     "data": {
      "application/vnd.jupyter.widget-view+json": {
       "model_id": "159d429f8dde48c497924eee360530a3",
       "version_major": 2,
       "version_minor": 0
      },
      "text/plain": [
       "  0%|          | 0/2346 [00:00<?, ?it/s]"
      ]
     },
     "metadata": {},
     "output_type": "display_data"
    },
    {
     "name": "stdout",
     "output_type": "stream",
     "text": [
      "Epoch: 039, Loss: 0.3484\n"
     ]
    },
    {
     "data": {
      "application/vnd.jupyter.widget-view+json": {
       "model_id": "12124353119c41369f7d9e233817128c",
       "version_major": 2,
       "version_minor": 0
      },
      "text/plain": [
       "  0%|          | 0/587 [00:00<?, ?it/s]"
      ]
     },
     "metadata": {},
     "output_type": "display_data"
    },
    {
     "name": "stdout",
     "output_type": "stream",
     "text": [
      "\n",
      "Test AP: 0.9400\n",
      "Test AUC: 0.8820\n",
      "Test Precision 0.8763\n",
      "Test Recall 0.8691\n",
      "Test F1 0.8683\n",
      "    \n"
     ]
    },
    {
     "data": {
      "application/vnd.jupyter.widget-view+json": {
       "model_id": "cf87a3507d8c4d1b8d50266867d92f88",
       "version_major": 2,
       "version_minor": 0
      },
      "text/plain": [
       "  0%|          | 0/2346 [00:00<?, ?it/s]"
      ]
     },
     "metadata": {},
     "output_type": "display_data"
    },
    {
     "name": "stdout",
     "output_type": "stream",
     "text": [
      "Epoch: 040, Loss: 0.3466\n"
     ]
    },
    {
     "data": {
      "application/vnd.jupyter.widget-view+json": {
       "model_id": "06635c16fa4040cd96108f26e34ce1d1",
       "version_major": 2,
       "version_minor": 0
      },
      "text/plain": [
       "  0%|          | 0/587 [00:00<?, ?it/s]"
      ]
     },
     "metadata": {},
     "output_type": "display_data"
    },
    {
     "name": "stdout",
     "output_type": "stream",
     "text": [
      "\n",
      "Test AP: 0.9412\n",
      "Test AUC: 0.8838\n",
      "Test Precision 0.8754\n",
      "Test Recall 0.8592\n",
      "Test F1 0.8631\n",
      "    \n"
     ]
    },
    {
     "data": {
      "application/vnd.jupyter.widget-view+json": {
       "model_id": "6a8125f589ca4597a7b420b2c76553a1",
       "version_major": 2,
       "version_minor": 0
      },
      "text/plain": [
       "  0%|          | 0/2346 [00:00<?, ?it/s]"
      ]
     },
     "metadata": {},
     "output_type": "display_data"
    },
    {
     "name": "stdout",
     "output_type": "stream",
     "text": [
      "Epoch: 041, Loss: 0.3457\n"
     ]
    },
    {
     "data": {
      "application/vnd.jupyter.widget-view+json": {
       "model_id": "eebf8ae6ea9246539d43690a6a40a353",
       "version_major": 2,
       "version_minor": 0
      },
      "text/plain": [
       "  0%|          | 0/587 [00:00<?, ?it/s]"
      ]
     },
     "metadata": {},
     "output_type": "display_data"
    },
    {
     "name": "stdout",
     "output_type": "stream",
     "text": [
      "\n",
      "Test AP: 0.9388\n",
      "Test AUC: 0.8812\n",
      "Test Precision 0.8799\n",
      "Test Recall 0.8656\n",
      "Test F1 0.8688\n",
      "    \n"
     ]
    },
    {
     "data": {
      "application/vnd.jupyter.widget-view+json": {
       "model_id": "57d104e699fb4c4d98c70a43584db877",
       "version_major": 2,
       "version_minor": 0
      },
      "text/plain": [
       "  0%|          | 0/2346 [00:00<?, ?it/s]"
      ]
     },
     "metadata": {},
     "output_type": "display_data"
    },
    {
     "name": "stdout",
     "output_type": "stream",
     "text": [
      "Epoch: 042, Loss: 0.3568\n"
     ]
    },
    {
     "data": {
      "application/vnd.jupyter.widget-view+json": {
       "model_id": "81837815089e42a297ba5b92c4496458",
       "version_major": 2,
       "version_minor": 0
      },
      "text/plain": [
       "  0%|          | 0/587 [00:00<?, ?it/s]"
      ]
     },
     "metadata": {},
     "output_type": "display_data"
    },
    {
     "name": "stdout",
     "output_type": "stream",
     "text": [
      "\n",
      "Test AP: 0.9292\n",
      "Test AUC: 0.8627\n",
      "Test Precision 0.8811\n",
      "Test Recall 0.8320\n",
      "Test F1 0.8515\n",
      "    \n"
     ]
    },
    {
     "data": {
      "application/vnd.jupyter.widget-view+json": {
       "model_id": "a68d65be55274488ab47880267cf9ce4",
       "version_major": 2,
       "version_minor": 0
      },
      "text/plain": [
       "  0%|          | 0/2346 [00:00<?, ?it/s]"
      ]
     },
     "metadata": {},
     "output_type": "display_data"
    },
    {
     "name": "stdout",
     "output_type": "stream",
     "text": [
      "Epoch: 043, Loss: 0.3736\n"
     ]
    },
    {
     "data": {
      "application/vnd.jupyter.widget-view+json": {
       "model_id": "7647ba72d1e748998349d4f51868932d",
       "version_major": 2,
       "version_minor": 0
      },
      "text/plain": [
       "  0%|          | 0/587 [00:00<?, ?it/s]"
      ]
     },
     "metadata": {},
     "output_type": "display_data"
    },
    {
     "name": "stdout",
     "output_type": "stream",
     "text": [
      "\n",
      "Test AP: 0.9324\n",
      "Test AUC: 0.8678\n",
      "Test Precision 0.8839\n",
      "Test Recall 0.8351\n",
      "Test F1 0.8542\n",
      "    \n"
     ]
    },
    {
     "data": {
      "application/vnd.jupyter.widget-view+json": {
       "model_id": "e64aacfbee72494ca83bcd82bd105a89",
       "version_major": 2,
       "version_minor": 0
      },
      "text/plain": [
       "  0%|          | 0/2346 [00:00<?, ?it/s]"
      ]
     },
     "metadata": {},
     "output_type": "display_data"
    },
    {
     "name": "stdout",
     "output_type": "stream",
     "text": [
      "Epoch: 044, Loss: 0.3722\n"
     ]
    },
    {
     "data": {
      "application/vnd.jupyter.widget-view+json": {
       "model_id": "7144e312335048458f0b2ed674073d1d",
       "version_major": 2,
       "version_minor": 0
      },
      "text/plain": [
       "  0%|          | 0/587 [00:00<?, ?it/s]"
      ]
     },
     "metadata": {},
     "output_type": "display_data"
    },
    {
     "name": "stdout",
     "output_type": "stream",
     "text": [
      "\n",
      "Test AP: 0.9330\n",
      "Test AUC: 0.8689\n",
      "Test Precision 0.8879\n",
      "Test Recall 0.8284\n",
      "Test F1 0.8514\n",
      "    \n"
     ]
    },
    {
     "data": {
      "application/vnd.jupyter.widget-view+json": {
       "model_id": "3626c6769c62474eb7ba0158aae5bbd2",
       "version_major": 2,
       "version_minor": 0
      },
      "text/plain": [
       "  0%|          | 0/2346 [00:00<?, ?it/s]"
      ]
     },
     "metadata": {},
     "output_type": "display_data"
    },
    {
     "name": "stdout",
     "output_type": "stream",
     "text": [
      "Epoch: 045, Loss: 0.3585\n"
     ]
    },
    {
     "data": {
      "application/vnd.jupyter.widget-view+json": {
       "model_id": "9af8a45a24d9430790c84cb7d5ea247d",
       "version_major": 2,
       "version_minor": 0
      },
      "text/plain": [
       "  0%|          | 0/587 [00:00<?, ?it/s]"
      ]
     },
     "metadata": {},
     "output_type": "display_data"
    },
    {
     "name": "stdout",
     "output_type": "stream",
     "text": [
      "\n",
      "Test AP: 0.9337\n",
      "Test AUC: 0.8682\n",
      "Test Precision 0.8982\n",
      "Test Recall 0.8091\n",
      "Test F1 0.8464\n",
      "    \n"
     ]
    },
    {
     "data": {
      "application/vnd.jupyter.widget-view+json": {
       "model_id": "bb2fb65444444073922eed34d8a7b54c",
       "version_major": 2,
       "version_minor": 0
      },
      "text/plain": [
       "  0%|          | 0/2346 [00:00<?, ?it/s]"
      ]
     },
     "metadata": {},
     "output_type": "display_data"
    },
    {
     "name": "stdout",
     "output_type": "stream",
     "text": [
      "Epoch: 046, Loss: 0.3426\n"
     ]
    },
    {
     "data": {
      "application/vnd.jupyter.widget-view+json": {
       "model_id": "ffef5ab9b840491494aeb24ecbfbf34a",
       "version_major": 2,
       "version_minor": 0
      },
      "text/plain": [
       "  0%|          | 0/587 [00:00<?, ?it/s]"
      ]
     },
     "metadata": {},
     "output_type": "display_data"
    },
    {
     "name": "stdout",
     "output_type": "stream",
     "text": [
      "\n",
      "Test AP: 0.9424\n",
      "Test AUC: 0.8835\n",
      "Test Precision 0.8698\n",
      "Test Recall 0.8654\n",
      "Test F1 0.8629\n",
      "    \n"
     ]
    },
    {
     "data": {
      "application/vnd.jupyter.widget-view+json": {
       "model_id": "f9166a8d14524d4599d961df4410ed2f",
       "version_major": 2,
       "version_minor": 0
      },
      "text/plain": [
       "  0%|          | 0/2346 [00:00<?, ?it/s]"
      ]
     },
     "metadata": {},
     "output_type": "display_data"
    },
    {
     "name": "stdout",
     "output_type": "stream",
     "text": [
      "Epoch: 047, Loss: 0.3404\n"
     ]
    },
    {
     "data": {
      "application/vnd.jupyter.widget-view+json": {
       "model_id": "67a056cbdb2a45f0af66e22aeb82ac69",
       "version_major": 2,
       "version_minor": 0
      },
      "text/plain": [
       "  0%|          | 0/587 [00:00<?, ?it/s]"
      ]
     },
     "metadata": {},
     "output_type": "display_data"
    },
    {
     "name": "stdout",
     "output_type": "stream",
     "text": [
      "\n",
      "Test AP: 0.9349\n",
      "Test AUC: 0.8720\n",
      "Test Precision 0.8873\n",
      "Test Recall 0.8165\n",
      "Test F1 0.8452\n",
      "    \n"
     ]
    },
    {
     "data": {
      "application/vnd.jupyter.widget-view+json": {
       "model_id": "1f71fe7b150741889607c753af731c37",
       "version_major": 2,
       "version_minor": 0
      },
      "text/plain": [
       "  0%|          | 0/2346 [00:00<?, ?it/s]"
      ]
     },
     "metadata": {},
     "output_type": "display_data"
    },
    {
     "name": "stdout",
     "output_type": "stream",
     "text": [
      "Epoch: 048, Loss: 0.3392\n"
     ]
    },
    {
     "data": {
      "application/vnd.jupyter.widget-view+json": {
       "model_id": "6c3d848ec8014d47a163147289968c3f",
       "version_major": 2,
       "version_minor": 0
      },
      "text/plain": [
       "  0%|          | 0/587 [00:00<?, ?it/s]"
      ]
     },
     "metadata": {},
     "output_type": "display_data"
    },
    {
     "name": "stdout",
     "output_type": "stream",
     "text": [
      "\n",
      "Test AP: 0.9407\n",
      "Test AUC: 0.8801\n",
      "Test Precision 0.8921\n",
      "Test Recall 0.8409\n",
      "Test F1 0.8614\n",
      "    \n"
     ]
    },
    {
     "data": {
      "application/vnd.jupyter.widget-view+json": {
       "model_id": "5ff94a1d65514ddcbb3bd8a963fe18d6",
       "version_major": 2,
       "version_minor": 0
      },
      "text/plain": [
       "  0%|          | 0/2346 [00:00<?, ?it/s]"
      ]
     },
     "metadata": {},
     "output_type": "display_data"
    },
    {
     "name": "stdout",
     "output_type": "stream",
     "text": [
      "Epoch: 049, Loss: 0.3304\n"
     ]
    },
    {
     "data": {
      "application/vnd.jupyter.widget-view+json": {
       "model_id": "2bacb2c3d36d4107ae806c00ee8bde2f",
       "version_major": 2,
       "version_minor": 0
      },
      "text/plain": [
       "  0%|          | 0/587 [00:00<?, ?it/s]"
      ]
     },
     "metadata": {},
     "output_type": "display_data"
    },
    {
     "name": "stdout",
     "output_type": "stream",
     "text": [
      "\n",
      "Test AP: 0.9294\n",
      "Test AUC: 0.8618\n",
      "Test Precision 0.8824\n",
      "Test Recall 0.8069\n",
      "Test F1 0.8380\n",
      "    \n"
     ]
    },
    {
     "data": {
      "application/vnd.jupyter.widget-view+json": {
       "model_id": "cacc6376b40b43db9c1256f8c86c31b6",
       "version_major": 2,
       "version_minor": 0
      },
      "text/plain": [
       "  0%|          | 0/2346 [00:00<?, ?it/s]"
      ]
     },
     "metadata": {},
     "output_type": "display_data"
    },
    {
     "name": "stdout",
     "output_type": "stream",
     "text": [
      "Epoch: 050, Loss: 0.3399\n"
     ]
    },
    {
     "data": {
      "application/vnd.jupyter.widget-view+json": {
       "model_id": "b536abccafc24501935bfcfc3bea86ad",
       "version_major": 2,
       "version_minor": 0
      },
      "text/plain": [
       "  0%|          | 0/587 [00:00<?, ?it/s]"
      ]
     },
     "metadata": {},
     "output_type": "display_data"
    },
    {
     "name": "stdout",
     "output_type": "stream",
     "text": [
      "\n",
      "Test AP: 0.9259\n",
      "Test AUC: 0.8523\n",
      "Test Precision 0.9019\n",
      "Test Recall 0.7597\n",
      "Test F1 0.8180\n",
      "    \n"
     ]
    }
   ],
   "source": [
    "n_epochs = 50\n",
    "\n",
    "for epoch in range(1, n_epochs + 1):\n",
    "    loss = train()\n",
    "    print(f'Epoch: {epoch:03d}, Loss: {loss:.4f}')\n",
    "\n",
    "    test_ap, test_auc, test_p, test_r, test_f1 = test(test_loader)\n",
    "    print(f'''\n",
    "Test AP: {test_ap:.4f}\n",
    "Test AUC: {test_auc:.4f}\n",
    "Test Precision {test_p:.4f}\n",
    "Test Recall {test_r:.4f}\n",
    "Test F1 {test_f1:.4f}\n",
    "    ''')\n",
    "    \n",
    "    checkpoint = {\n",
    "        'epoch': epoch,\n",
    "        'model_state_dict': model.state_dict(),\n",
    "        'optimizer_state_dict': optimizer.state_dict(),\n",
    "        'loss': loss,\n",
    "        'auc': test_auc,\n",
    "        'ap': test_ap,\n",
    "    }\n",
    "    torch.save(checkpoint, f'checks/{epoch}.pt')"
   ]
  },
  {
   "cell_type": "markdown",
   "id": "dad01d61-9087-4892-a45e-ff265ab7c61b",
   "metadata": {},
   "source": [
    "## Results\n",
    "\n",
    "Training went well, but it quickly converged to an upper limit of approximately 0.93 AP and 0.86 AUC. Choosing a model that arrived at this plateau as early as possible, the model with the weights from epoch 15 will be analyzed."
   ]
  },
  {
   "cell_type": "code",
   "execution_count": 29,
   "id": "103cf7c4-437d-4e40-bd3c-5f75ee768ef2",
   "metadata": {
    "tags": []
   },
   "outputs": [
    {
     "data": {
      "image/png": "[encoded data removed]",
      "text/plain": [
       "<Figure size 640x480 with 1 Axes>"
      ]
     },
     "metadata": {},
     "output_type": "display_data"
    }
   ],
   "source": [
    "def load_checkpoint(model, optimizer, checkpoint_path):\n",
    "    checkpoint = torch.load(checkpoint_path)\n",
    "    model.load_state_dict(checkpoint['model_state_dict'])\n",
    "    optimizer.load_state_dict(checkpoint['optimizer_state_dict'])\n",
    "    epoch = checkpoint['epoch']\n",
    "    loss = checkpoint['loss']\n",
    "    ap = checkpoint['ap']\n",
    "    auc = checkpoint['auc']\n",
    "\n",
    "    return model, optimizer, epoch, loss, ap, auc\n",
    "\n",
    "aps = []\n",
    "aucs = []\n",
    "losses = []\n",
    "\n",
    "for check in sorted(glob.glob('checks/*.pt'), key=lambda x: float(x[:-3].split('/')[1])):\n",
    "    _, _, _, loss, ap, auc  = load_checkpoint(model, optimizer, check)\n",
    "    aps.append(ap)\n",
    "    aucs.append(auc)\n",
    "    losses.append(loss)\n",
    "\n",
    "plt.plot(aps, label='AP')\n",
    "plt.plot(aucs, label='AUC')\n",
    "plt.plot(losses, label='Loss')\n",
    "\n",
    "plt.legend()\n",
    "\n",
    "plt.xlabel('Epoch') # Epoch\n",
    "plt.ylabel('Value') # Value\n",
    "\n",
    "plt.title('Loss, AP and AUC for every epoch')\n",
    "\n",
    "plt.show()"
   ]
  },
  {
   "cell_type": "markdown",
   "id": "aad6918d-fc38-4bb7-b605-73820967b8b0",
   "metadata": {},
   "source": [
    "Using a threshold of 0.5 for the classier..."
   ]
  },
  {
   "cell_type": "code",
   "execution_count": 30,
   "id": "bc64eaec-ad7f-4b52-8ef9-5ffb7124efca",
   "metadata": {
    "tags": []
   },
   "outputs": [
    {
     "data": {
      "application/vnd.jupyter.widget-view+json": {
       "model_id": "1e5ae6d8e7b64db8b3b762ea8ec56bfe",
       "version_major": 2,
       "version_minor": 0
      },
      "text/plain": [
       "  0%|          | 0/2346 [00:00<?, ?it/s]"
      ]
     },
     "metadata": {},
     "output_type": "display_data"
    },
    {
     "data": {
      "application/vnd.jupyter.widget-view+json": {
       "model_id": "d72bc25e866141be9558ae2a1e1d450e",
       "version_major": 2,
       "version_minor": 0
      },
      "text/plain": [
       "  0%|          | 0/587 [00:00<?, ?it/s]"
      ]
     },
     "metadata": {},
     "output_type": "display_data"
    },
    {
     "data": {
      "text/html": [
       "<div>\n",
       "<style scoped>\n",
       "    .dataframe tbody tr th:only-of-type {\n",
       "        vertical-align: middle;\n",
       "    }\n",
       "\n",
       "    .dataframe tbody tr th {\n",
       "        vertical-align: top;\n",
       "    }\n",
       "\n",
       "    .dataframe thead th {\n",
       "        text-align: right;\n",
       "    }\n",
       "</style>\n",
       "<table border=\"1\" class=\"dataframe\">\n",
       "  <thead>\n",
       "    <tr style=\"text-align: right;\">\n",
       "      <th></th>\n",
       "      <th>Accuracy</th>\n",
       "      <th>Precision</th>\n",
       "      <th>Recall</th>\n",
       "      <th>F1</th>\n",
       "    </tr>\n",
       "  </thead>\n",
       "  <tbody>\n",
       "    <tr>\n",
       "      <th>0</th>\n",
       "      <td>0.816981</td>\n",
       "      <td>0.862779</td>\n",
       "      <td>0.871389</td>\n",
       "      <td>0.862079</td>\n",
       "    </tr>\n",
       "  </tbody>\n",
       "</table>\n",
       "</div>"
      ],
      "text/plain": [
       "   Accuracy  Precision    Recall        F1\n",
       "0  0.816981   0.862779  0.871389  0.862079"
      ]
     },
     "execution_count": 30,
     "metadata": {},
     "output_type": "execute_result"
    }
   ],
   "source": [
    "from sklearn.metrics import accuracy_score\n",
    "\n",
    "model, _, _, loss, ap, auc  = load_checkpoint(model, optimizer, 'checks/15.pt')\n",
    "\n",
    "ps = []\n",
    "rs = []\n",
    "f1s = []\n",
    "accs = []\n",
    "\n",
    "\n",
    "with torch.no_grad():\n",
    "    model.eval()\n",
    "    torch.manual_seed(12345)\n",
    "    \n",
    "    # Restarting and reloading the memory state\n",
    "    model.reset()\n",
    "    for batch in tqdm(train_loader):\n",
    "        model.update_memory(batch)\n",
    "\n",
    "    for batch in tqdm(test_loader):\n",
    "        batch = batch.to(device)\n",
    "\n",
    "        out = model(batch, data)\n",
    "\n",
    "        y_pred = out.sigmoid().cpu()\n",
    "        y_true = batch.y.unsqueeze(-1).cpu()\n",
    "\n",
    "        ps.append(precision_score(y_true, y_pred > 0.5))\n",
    "        rs.append(recall_score(y_true, y_pred > 0.5))\n",
    "        f1s.append(f1_score(y_true, y_pred > 0.5))\n",
    "        accs.append(accuracy_score(y_true, y_pred > 0.5))\n",
    "    \n",
    "    # Metrics\n",
    "    acc = float(torch.tensor(accs).mean())\n",
    "    r = float(torch.tensor(rs).mean())\n",
    "    p = float(torch.tensor(ps).mean())\n",
    "    f1 = float(torch.tensor(f1s).mean())\n",
    "\n",
    "pd.DataFrame([{\n",
    "    'Accuracy': acc,\n",
    "    'Precision': p,\n",
    "    'Recall': r,\n",
    "    'F1': f1,\n",
    "}])"
   ]
  },
  {
   "cell_type": "code",
   "execution_count": 31,
   "id": "38edc36f-7c7c-4d2d-a3f0-20f5bffa5042",
   "metadata": {
    "tags": []
   },
   "outputs": [
    {
     "name": "stdout",
     "output_type": "stream",
     "text": [
      "\n",
      "Amount of attacks in the full dataset: 0.6486304402351379,\n",
      "Amount of attacks in the test dataset: 0.662860095500946,\n",
      "\n"
     ]
    }
   ],
   "source": [
    "print(f'''\n",
    "Amount of attacks in the full dataset: {float(data.y.sum() / data.y.shape[0])},\n",
    "Amount of attacks in the test dataset: {float(test_loader.data.y.sum() / test_loader.data.y.shape[0])},\n",
    "''')"
   ]
  },
  {
   "cell_type": "markdown",
   "id": "21289cf7-b29d-47a1-a384-2ff36b6b0de7",
   "metadata": {},
   "source": [
    "It was possible to achieve 81% accuracy in the task, with a precision of 86% and a recall of 87%, resulting in an F1 measure of 86%. This result, together with the fact that the dataset contains 64% of interactions as attacks, shows that the results were positive and that the model demonstrates acceptable performance for the task."
   ]
  },
  {
   "cell_type": "markdown",
   "id": "683f2de5-7467-4e8c-832b-d00d506960e3",
   "metadata": {},
   "source": [
    "## Conclusion\n",
    "\n",
    "In the tests carried out, the TGN Model managed to achieve a promising result, even with the limitations of the sender.\n",
    "\n",
    "A limitation of this work is the lack of comparisons with other methods to validate the quality of the results obtained with this model. Also, no optimizations were made to the hyperparameters in order to maximize performance.\n",
    "\n",
    "Finally, it is concluded that the TGN technique is very interesting and can be applied in the context of identifying attacks in VANETs."
   ]
  },
  {
   "cell_type": "markdown",
   "id": "fb6ba037-13cf-4be8-b706-55f965e3cc2e",
   "metadata": {},
   "source": [
    "## References \n",
    "\n",
    "[1] Rossi, E., Chamberlain, B., Frasca, F., Eynard, D., Monti, F., & Bronstein, M. (2020). Temporal Graph Networks for Deep Learning on Dynamic Graphs. Available at: https://arxiv.org/abs/2006.10637\n",
    "\n",
    "[2] Torch Geometric Team. JODIE Dataset Loader. Available at: https://pytorch-geometric.readthedocs.io/en/latest/_modules/torch_geometric/datasets/jodie.html#JODIEDatase\n",
    "\n",
    "[3] Torch Geometric Team. Temporal Graph Network (TGN) example. Available at: https://github.com/pyg-team/pytorch_geometric/blob/master/examples/tgn.py\n",
    "\n",
    "[4] Torch Geometric Team. Question about LastNeighborLoader. GitHub Issues. Available at: https://github.com/pyg-team/pytorch_geometric/discussions/2153\n",
    "\n",
    "[5] J. Kamel and M. Wolf and R. W. van Der Heijden and A. Kaiser and P. Urien and F. Kargl. VeReMi Extension: A Dataset for Comparable Evaluation of Misbehavior Detection in VANETs. Available at: https://github.com/josephkamel/VeReMi-Dataset."
   ]
  }
 ],
 "metadata": {
  "kernelspec": {
   "display_name": "Python 3 (ipykernel)",
   "language": "python",
   "name": "python3"
  },
  "language_info": {
   "codemirror_mode": {
    "name": "ipython",
    "version": 3
   },
   "file_extension": ".py",
   "mimetype": "text/x-python",
   "name": "python",
   "nbconvert_exporter": "python",
   "pygments_lexer": "ipython3",
   "version": "3.10.10"
  },
  "toc-autonumbering": true,
  "toc-showmarkdowntxt": true
 },
 "nbformat": 4,
 "nbformat_minor": 5
}
